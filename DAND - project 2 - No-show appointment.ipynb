{
 "cells": [
  {
   "cell_type": "markdown",
   "metadata": {},
   "source": [
    "### Udacity \n",
    "#### Data Analyst Nanodegree"
   ]
  },
  {
   "attachments": {},
   "cell_type": "markdown",
   "metadata": {},
   "source": [
    "# project 2: Investigate a Dataset\n",
    "# Data Set: No-show appointments\n",
    "#### 20 May 2020\n",
    "###### by : Ghadah Barahim\n",
    "\n",
    "## Data Set Overview :\n",
    "This dataset is from Kaggle (https://www.kaggle.com/joniarroba/noshowappointments). \n",
    "It contains more than 100K medical appointments information from Brazil in 2016.\n",
    "The main concern of this dataset is whether the patients show up on their scheduled appointment or no.\n",
    "Different characteristics of each patient and appointment are included in the dataset.\n",
    "\n",
    "\n",
    "data = {'First Column Name':  ['First value', 'Second value',...],\n",
    "        'Second Column Name': ['First value', 'Second value',...],\n",
    "         ....\n",
    "        }\n",
    "\n",
    "df = pd.DataFrame (data, columns = ['First Column Name','Second Column Name',...])"
   ]
  },
  {
   "cell_type": "code",
   "execution_count": 1,
   "metadata": {},
   "outputs": [
    {
     "data": {
      "text/html": [
       "<div>\n",
       "<style scoped>\n",
       "    .dataframe tbody tr th:only-of-type {\n",
       "        vertical-align: middle;\n",
       "    }\n",
       "\n",
       "    .dataframe tbody tr th {\n",
       "        vertical-align: top;\n",
       "    }\n",
       "\n",
       "    .dataframe thead th {\n",
       "        text-align: right;\n",
       "    }\n",
       "</style>\n",
       "<table border=\"1\" class=\"dataframe\">\n",
       "  <thead>\n",
       "    <tr style=\"text-align: right;\">\n",
       "      <th></th>\n",
       "      <th>Characteristics</th>\n",
       "      <th>Description</th>\n",
       "    </tr>\n",
       "  </thead>\n",
       "  <tbody>\n",
       "    <tr>\n",
       "      <th>1</th>\n",
       "      <td>PatientID</td>\n",
       "      <td>Identifier and a unique number for each patient.</td>\n",
       "    </tr>\n",
       "    <tr>\n",
       "      <th>2</th>\n",
       "      <td>AppointmentID</td>\n",
       "      <td>Identifier and a unique number for each appoin...</td>\n",
       "    </tr>\n",
       "    <tr>\n",
       "      <th>3</th>\n",
       "      <td>Gender</td>\n",
       "      <td>Female, Male.</td>\n",
       "    </tr>\n",
       "    <tr>\n",
       "      <th>4</th>\n",
       "      <td>ScheduledDay</td>\n",
       "      <td>The day the patient set up their appointment.</td>\n",
       "    </tr>\n",
       "    <tr>\n",
       "      <th>5</th>\n",
       "      <td>AppointmentDay</td>\n",
       "      <td>The day the patient is showed up.</td>\n",
       "    </tr>\n",
       "    <tr>\n",
       "      <th>6</th>\n",
       "      <td>Age</td>\n",
       "      <td>Age of the patient.</td>\n",
       "    </tr>\n",
       "    <tr>\n",
       "      <th>7</th>\n",
       "      <td>Neighborhood</td>\n",
       "      <td>The neighborhood the patient lives in.</td>\n",
       "    </tr>\n",
       "    <tr>\n",
       "      <th>8</th>\n",
       "      <td>Scholarship</td>\n",
       "      <td>indicates whether or not the patient is enroll...</td>\n",
       "    </tr>\n",
       "    <tr>\n",
       "      <th>9</th>\n",
       "      <td>Hypertension</td>\n",
       "      <td>If the patient has hypertension or not.</td>\n",
       "    </tr>\n",
       "    <tr>\n",
       "      <th>10</th>\n",
       "      <td>Diabetes</td>\n",
       "      <td>If the patient has diabetes or not.</td>\n",
       "    </tr>\n",
       "    <tr>\n",
       "      <th>11</th>\n",
       "      <td>Alcoholism</td>\n",
       "      <td>If the patient has alcoholism or not.</td>\n",
       "    </tr>\n",
       "    <tr>\n",
       "      <th>12</th>\n",
       "      <td>Handicap</td>\n",
       "      <td>If the patient is handicap or not.</td>\n",
       "    </tr>\n",
       "    <tr>\n",
       "      <th>13</th>\n",
       "      <td>SMS _received</td>\n",
       "      <td>Does the patient receive an SMS from the hospi...</td>\n",
       "    </tr>\n",
       "    <tr>\n",
       "      <th>14</th>\n",
       "      <td>No-show</td>\n",
       "      <td>says: ‘No’ if the patient showed up to their ...</td>\n",
       "    </tr>\n",
       "  </tbody>\n",
       "</table>\n",
       "</div>"
      ],
      "text/plain": [
       "   Characteristics                                        Description\n",
       "1        PatientID   Identifier and a unique number for each patient.\n",
       "2    AppointmentID  Identifier and a unique number for each appoin...\n",
       "3           Gender                                      Female, Male.\n",
       "4     ScheduledDay      The day the patient set up their appointment.\n",
       "5   AppointmentDay                  The day the patient is showed up.\n",
       "6              Age                                Age of the patient.\n",
       "7     Neighborhood             The neighborhood the patient lives in.\n",
       "8      Scholarship  indicates whether or not the patient is enroll...\n",
       "9     Hypertension            If the patient has hypertension or not.\n",
       "10        Diabetes                If the patient has diabetes or not.\n",
       "11      Alcoholism              If the patient has alcoholism or not.\n",
       "12        Handicap                 If the patient is handicap or not.\n",
       "13   SMS _received  Does the patient receive an SMS from the hospi...\n",
       "14         No-show   says: ‘No’ if the patient showed up to their ..."
      ]
     },
     "execution_count": 1,
     "metadata": {},
     "output_type": "execute_result"
    }
   ],
   "source": [
    "### The columns in the Data Set :\n",
    "\n",
    "import pandas as pd\n",
    "x={'Characteristics':['PatientID' , 'AppointmentID' , 'Gender' , 'ScheduledDay' , 'AppointmentDay' , 'Age' , 'Neighborhood' , 'Scholarship' , 'Hypertension' , 'Diabetes' , 'Alcoholism' , 'Handicap' , 'SMS _received' , 'No-show'],\n",
    "   'Description' : ['Identifier and a unique number for each patient.' , 'Identifier and a unique number for each appointment.' ,  'Female, Male.' , 'The day the patient set up their appointment.' , 'The day the patient is showed up.' , 'Age of the patient.' , 'The neighborhood the patient lives in.' , 'indicates whether or not the patient is enrolled in the Brasilian welfare program.' , 'If the patient has hypertension or not.' , 'If the patient has diabetes or not.' , 'If the patient has alcoholism or not.' , 'If the patient is handicap or not.' , 'Does the patient receive an SMS from the hospital?' , ' says: ‘No’ if the patient showed up to their appointment, and ‘Yes’ if they did not show up']}\n",
    "z = [1,2,3,4,5,6,7,8,9,10,11,12,13,14]\n",
    "y = pd.DataFrame(x , columns=['Characteristics' ,'Description' ] , index = z)\n",
    "\n",
    "y"
   ]
  },
  {
   "cell_type": "markdown",
   "metadata": {},
   "source": [
    "### The Goal of This Notbook\n",
    "This project notebook analysis this dataset to see what patients' characteristics who miss their scheduled appointment and whether the characteristics of the appointment like the day or month it was in factor for patients to not show on their appointment."
   ]
  },
  {
   "cell_type": "markdown",
   "metadata": {},
   "source": [
    "# Asking Qustion? \n",
    " \n",
    "Q1 - What is the percentage of patients who did not show up in their scheduled appointment to the total patients ? \n",
    "\n",
    "Q2 - Which of female or male is more to not showing on their schedule appointment? \n",
    "\n",
    "Q3 - Is the age of patients play a role in not show in the scheduled appointment? \n",
    "\n",
    "Q4 -  Is there a specific day or month that the patients are more not show up at it?\n",
    "\n",
    "Q5 -  Is there a specific day that the patients who not show up on their scheduled appointment are more likely to show up?\n",
    "\n",
    "Q6 - Does the neighborhood that patients live in have a relationship with patients not show?\n",
    "\n",
    "Q7 - Are patients who have a scholarship are less to miss their scheduled appointment?\n",
    "\n",
    "Q8 - Are the patients who have a chronic disease (diabetes, or hypertension) related to not show up?\n",
    "\n",
    "Q9 - Do the patients who have alcoholism, are more missing their appointment?\n",
    "\n",
    "Q10 - Do the patients who are handicap, are more missing their appointment?\n",
    "\n",
    "Q11 - Do patients who receive SMS are less likely to not show up on their appointment?\n"
   ]
  },
  {
   "cell_type": "markdown",
   "metadata": {},
   "source": [
    "# 1. Data Wrangling"
   ]
  },
  {
   "cell_type": "markdown",
   "metadata": {},
   "source": [
    "## 1.1 Import Libraries and Read DataSet"
   ]
  },
  {
   "cell_type": "code",
   "execution_count": 2,
   "metadata": {},
   "outputs": [],
   "source": [
    "#import libraries\n",
    "import pandas as pd\n",
    "import numpy as np\n",
    "import matplotlib.pyplot as plt\n",
    "%matplotlib inline\n"
   ]
  },
  {
   "cell_type": "code",
   "execution_count": 3,
   "metadata": {},
   "outputs": [],
   "source": [
    "# load the data set\n",
    "df = pd.read_csv('no-show-appointments-2016.csv')"
   ]
  },
  {
   "cell_type": "code",
   "execution_count": 4,
   "metadata": {},
   "outputs": [
    {
     "data": {
      "text/html": [
       "<div>\n",
       "<style scoped>\n",
       "    .dataframe tbody tr th:only-of-type {\n",
       "        vertical-align: middle;\n",
       "    }\n",
       "\n",
       "    .dataframe tbody tr th {\n",
       "        vertical-align: top;\n",
       "    }\n",
       "\n",
       "    .dataframe thead th {\n",
       "        text-align: right;\n",
       "    }\n",
       "</style>\n",
       "<table border=\"1\" class=\"dataframe\">\n",
       "  <thead>\n",
       "    <tr style=\"text-align: right;\">\n",
       "      <th></th>\n",
       "      <th>PatientId</th>\n",
       "      <th>AppointmentID</th>\n",
       "      <th>Gender</th>\n",
       "      <th>ScheduledDay</th>\n",
       "      <th>AppointmentDay</th>\n",
       "      <th>Age</th>\n",
       "      <th>Neighbourhood</th>\n",
       "      <th>Scholarship</th>\n",
       "      <th>Hipertension</th>\n",
       "      <th>Diabetes</th>\n",
       "      <th>Alcoholism</th>\n",
       "      <th>Handcap</th>\n",
       "      <th>SMS_received</th>\n",
       "      <th>No-show</th>\n",
       "    </tr>\n",
       "  </thead>\n",
       "  <tbody>\n",
       "    <tr>\n",
       "      <th>0</th>\n",
       "      <td>2.987250e+13</td>\n",
       "      <td>5642903</td>\n",
       "      <td>F</td>\n",
       "      <td>2016-04-29T18:38:08Z</td>\n",
       "      <td>2016-04-29T00:00:00Z</td>\n",
       "      <td>62</td>\n",
       "      <td>JARDIM DA PENHA</td>\n",
       "      <td>0</td>\n",
       "      <td>1</td>\n",
       "      <td>0</td>\n",
       "      <td>0</td>\n",
       "      <td>0</td>\n",
       "      <td>0</td>\n",
       "      <td>No</td>\n",
       "    </tr>\n",
       "    <tr>\n",
       "      <th>1</th>\n",
       "      <td>5.589978e+14</td>\n",
       "      <td>5642503</td>\n",
       "      <td>M</td>\n",
       "      <td>2016-04-29T16:08:27Z</td>\n",
       "      <td>2016-04-29T00:00:00Z</td>\n",
       "      <td>56</td>\n",
       "      <td>JARDIM DA PENHA</td>\n",
       "      <td>0</td>\n",
       "      <td>0</td>\n",
       "      <td>0</td>\n",
       "      <td>0</td>\n",
       "      <td>0</td>\n",
       "      <td>0</td>\n",
       "      <td>No</td>\n",
       "    </tr>\n",
       "    <tr>\n",
       "      <th>2</th>\n",
       "      <td>4.262962e+12</td>\n",
       "      <td>5642549</td>\n",
       "      <td>F</td>\n",
       "      <td>2016-04-29T16:19:04Z</td>\n",
       "      <td>2016-04-29T00:00:00Z</td>\n",
       "      <td>62</td>\n",
       "      <td>MATA DA PRAIA</td>\n",
       "      <td>0</td>\n",
       "      <td>0</td>\n",
       "      <td>0</td>\n",
       "      <td>0</td>\n",
       "      <td>0</td>\n",
       "      <td>0</td>\n",
       "      <td>No</td>\n",
       "    </tr>\n",
       "    <tr>\n",
       "      <th>3</th>\n",
       "      <td>8.679512e+11</td>\n",
       "      <td>5642828</td>\n",
       "      <td>F</td>\n",
       "      <td>2016-04-29T17:29:31Z</td>\n",
       "      <td>2016-04-29T00:00:00Z</td>\n",
       "      <td>8</td>\n",
       "      <td>PONTAL DE CAMBURI</td>\n",
       "      <td>0</td>\n",
       "      <td>0</td>\n",
       "      <td>0</td>\n",
       "      <td>0</td>\n",
       "      <td>0</td>\n",
       "      <td>0</td>\n",
       "      <td>No</td>\n",
       "    </tr>\n",
       "    <tr>\n",
       "      <th>4</th>\n",
       "      <td>8.841186e+12</td>\n",
       "      <td>5642494</td>\n",
       "      <td>F</td>\n",
       "      <td>2016-04-29T16:07:23Z</td>\n",
       "      <td>2016-04-29T00:00:00Z</td>\n",
       "      <td>56</td>\n",
       "      <td>JARDIM DA PENHA</td>\n",
       "      <td>0</td>\n",
       "      <td>1</td>\n",
       "      <td>1</td>\n",
       "      <td>0</td>\n",
       "      <td>0</td>\n",
       "      <td>0</td>\n",
       "      <td>No</td>\n",
       "    </tr>\n",
       "  </tbody>\n",
       "</table>\n",
       "</div>"
      ],
      "text/plain": [
       "      PatientId  AppointmentID Gender          ScheduledDay  \\\n",
       "0  2.987250e+13        5642903      F  2016-04-29T18:38:08Z   \n",
       "1  5.589978e+14        5642503      M  2016-04-29T16:08:27Z   \n",
       "2  4.262962e+12        5642549      F  2016-04-29T16:19:04Z   \n",
       "3  8.679512e+11        5642828      F  2016-04-29T17:29:31Z   \n",
       "4  8.841186e+12        5642494      F  2016-04-29T16:07:23Z   \n",
       "\n",
       "         AppointmentDay  Age      Neighbourhood  Scholarship  Hipertension  \\\n",
       "0  2016-04-29T00:00:00Z   62    JARDIM DA PENHA            0             1   \n",
       "1  2016-04-29T00:00:00Z   56    JARDIM DA PENHA            0             0   \n",
       "2  2016-04-29T00:00:00Z   62      MATA DA PRAIA            0             0   \n",
       "3  2016-04-29T00:00:00Z    8  PONTAL DE CAMBURI            0             0   \n",
       "4  2016-04-29T00:00:00Z   56    JARDIM DA PENHA            0             1   \n",
       "\n",
       "   Diabetes  Alcoholism  Handcap  SMS_received No-show  \n",
       "0         0           0        0             0      No  \n",
       "1         0           0        0             0      No  \n",
       "2         0           0        0             0      No  \n",
       "3         0           0        0             0      No  \n",
       "4         1           0        0             0      No  "
      ]
     },
     "execution_count": 4,
     "metadata": {},
     "output_type": "execute_result"
    }
   ],
   "source": [
    "# show the data\n",
    "df.head()"
   ]
  },
  {
   "cell_type": "markdown",
   "metadata": {},
   "source": [
    "## 1.2 Assessing The Dataset"
   ]
  },
  {
   "cell_type": "code",
   "execution_count": 5,
   "metadata": {},
   "outputs": [
    {
     "name": "stdout",
     "output_type": "stream",
     "text": [
      "<class 'pandas.core.frame.DataFrame'>\n",
      "RangeIndex: 110527 entries, 0 to 110526\n",
      "Data columns (total 14 columns):\n",
      " #   Column          Non-Null Count   Dtype  \n",
      "---  ------          --------------   -----  \n",
      " 0   PatientId       110527 non-null  float64\n",
      " 1   AppointmentID   110527 non-null  int64  \n",
      " 2   Gender          110527 non-null  object \n",
      " 3   ScheduledDay    110527 non-null  object \n",
      " 4   AppointmentDay  110527 non-null  object \n",
      " 5   Age             110527 non-null  int64  \n",
      " 6   Neighbourhood   110527 non-null  object \n",
      " 7   Scholarship     110527 non-null  int64  \n",
      " 8   Hipertension    110527 non-null  int64  \n",
      " 9   Diabetes        110527 non-null  int64  \n",
      " 10  Alcoholism      110527 non-null  int64  \n",
      " 11  Handcap         110527 non-null  int64  \n",
      " 12  SMS_received    110527 non-null  int64  \n",
      " 13  No-show         110527 non-null  object \n",
      "dtypes: float64(1), int64(8), object(5)\n",
      "memory usage: 11.8+ MB\n"
     ]
    }
   ],
   "source": [
    "# show inforomation about the data\n",
    "df.info()"
   ]
  },
  {
   "cell_type": "code",
   "execution_count": 6,
   "metadata": {},
   "outputs": [
    {
     "data": {
      "text/plain": [
       "(110527, 14)"
      ]
     },
     "execution_count": 6,
     "metadata": {},
     "output_type": "execute_result"
    }
   ],
   "source": [
    "df.shape"
   ]
  },
  {
   "cell_type": "code",
   "execution_count": 7,
   "metadata": {},
   "outputs": [
    {
     "data": {
      "text/html": [
       "<div>\n",
       "<style scoped>\n",
       "    .dataframe tbody tr th:only-of-type {\n",
       "        vertical-align: middle;\n",
       "    }\n",
       "\n",
       "    .dataframe tbody tr th {\n",
       "        vertical-align: top;\n",
       "    }\n",
       "\n",
       "    .dataframe thead th {\n",
       "        text-align: right;\n",
       "    }\n",
       "</style>\n",
       "<table border=\"1\" class=\"dataframe\">\n",
       "  <thead>\n",
       "    <tr style=\"text-align: right;\">\n",
       "      <th></th>\n",
       "      <th>PatientId</th>\n",
       "      <th>AppointmentID</th>\n",
       "      <th>Age</th>\n",
       "      <th>Scholarship</th>\n",
       "      <th>Hipertension</th>\n",
       "      <th>Diabetes</th>\n",
       "      <th>Alcoholism</th>\n",
       "      <th>Handcap</th>\n",
       "      <th>SMS_received</th>\n",
       "    </tr>\n",
       "  </thead>\n",
       "  <tbody>\n",
       "    <tr>\n",
       "      <th>count</th>\n",
       "      <td>1.105270e+05</td>\n",
       "      <td>1.105270e+05</td>\n",
       "      <td>110527.000000</td>\n",
       "      <td>110527.000000</td>\n",
       "      <td>110527.000000</td>\n",
       "      <td>110527.000000</td>\n",
       "      <td>110527.000000</td>\n",
       "      <td>110527.000000</td>\n",
       "      <td>110527.000000</td>\n",
       "    </tr>\n",
       "    <tr>\n",
       "      <th>mean</th>\n",
       "      <td>1.474963e+14</td>\n",
       "      <td>5.675305e+06</td>\n",
       "      <td>37.088874</td>\n",
       "      <td>0.098266</td>\n",
       "      <td>0.197246</td>\n",
       "      <td>0.071865</td>\n",
       "      <td>0.030400</td>\n",
       "      <td>0.022248</td>\n",
       "      <td>0.321026</td>\n",
       "    </tr>\n",
       "    <tr>\n",
       "      <th>std</th>\n",
       "      <td>2.560949e+14</td>\n",
       "      <td>7.129575e+04</td>\n",
       "      <td>23.110205</td>\n",
       "      <td>0.297675</td>\n",
       "      <td>0.397921</td>\n",
       "      <td>0.258265</td>\n",
       "      <td>0.171686</td>\n",
       "      <td>0.161543</td>\n",
       "      <td>0.466873</td>\n",
       "    </tr>\n",
       "    <tr>\n",
       "      <th>min</th>\n",
       "      <td>3.921784e+04</td>\n",
       "      <td>5.030230e+06</td>\n",
       "      <td>-1.000000</td>\n",
       "      <td>0.000000</td>\n",
       "      <td>0.000000</td>\n",
       "      <td>0.000000</td>\n",
       "      <td>0.000000</td>\n",
       "      <td>0.000000</td>\n",
       "      <td>0.000000</td>\n",
       "    </tr>\n",
       "    <tr>\n",
       "      <th>25%</th>\n",
       "      <td>4.172614e+12</td>\n",
       "      <td>5.640286e+06</td>\n",
       "      <td>18.000000</td>\n",
       "      <td>0.000000</td>\n",
       "      <td>0.000000</td>\n",
       "      <td>0.000000</td>\n",
       "      <td>0.000000</td>\n",
       "      <td>0.000000</td>\n",
       "      <td>0.000000</td>\n",
       "    </tr>\n",
       "    <tr>\n",
       "      <th>50%</th>\n",
       "      <td>3.173184e+13</td>\n",
       "      <td>5.680573e+06</td>\n",
       "      <td>37.000000</td>\n",
       "      <td>0.000000</td>\n",
       "      <td>0.000000</td>\n",
       "      <td>0.000000</td>\n",
       "      <td>0.000000</td>\n",
       "      <td>0.000000</td>\n",
       "      <td>0.000000</td>\n",
       "    </tr>\n",
       "    <tr>\n",
       "      <th>75%</th>\n",
       "      <td>9.439172e+13</td>\n",
       "      <td>5.725524e+06</td>\n",
       "      <td>55.000000</td>\n",
       "      <td>0.000000</td>\n",
       "      <td>0.000000</td>\n",
       "      <td>0.000000</td>\n",
       "      <td>0.000000</td>\n",
       "      <td>0.000000</td>\n",
       "      <td>1.000000</td>\n",
       "    </tr>\n",
       "    <tr>\n",
       "      <th>max</th>\n",
       "      <td>9.999816e+14</td>\n",
       "      <td>5.790484e+06</td>\n",
       "      <td>115.000000</td>\n",
       "      <td>1.000000</td>\n",
       "      <td>1.000000</td>\n",
       "      <td>1.000000</td>\n",
       "      <td>1.000000</td>\n",
       "      <td>4.000000</td>\n",
       "      <td>1.000000</td>\n",
       "    </tr>\n",
       "  </tbody>\n",
       "</table>\n",
       "</div>"
      ],
      "text/plain": [
       "          PatientId  AppointmentID            Age    Scholarship  \\\n",
       "count  1.105270e+05   1.105270e+05  110527.000000  110527.000000   \n",
       "mean   1.474963e+14   5.675305e+06      37.088874       0.098266   \n",
       "std    2.560949e+14   7.129575e+04      23.110205       0.297675   \n",
       "min    3.921784e+04   5.030230e+06      -1.000000       0.000000   \n",
       "25%    4.172614e+12   5.640286e+06      18.000000       0.000000   \n",
       "50%    3.173184e+13   5.680573e+06      37.000000       0.000000   \n",
       "75%    9.439172e+13   5.725524e+06      55.000000       0.000000   \n",
       "max    9.999816e+14   5.790484e+06     115.000000       1.000000   \n",
       "\n",
       "        Hipertension       Diabetes     Alcoholism        Handcap  \\\n",
       "count  110527.000000  110527.000000  110527.000000  110527.000000   \n",
       "mean        0.197246       0.071865       0.030400       0.022248   \n",
       "std         0.397921       0.258265       0.171686       0.161543   \n",
       "min         0.000000       0.000000       0.000000       0.000000   \n",
       "25%         0.000000       0.000000       0.000000       0.000000   \n",
       "50%         0.000000       0.000000       0.000000       0.000000   \n",
       "75%         0.000000       0.000000       0.000000       0.000000   \n",
       "max         1.000000       1.000000       1.000000       4.000000   \n",
       "\n",
       "        SMS_received  \n",
       "count  110527.000000  \n",
       "mean        0.321026  \n",
       "std         0.466873  \n",
       "min         0.000000  \n",
       "25%         0.000000  \n",
       "50%         0.000000  \n",
       "75%         1.000000  \n",
       "max         1.000000  "
      ]
     },
     "execution_count": 7,
     "metadata": {},
     "output_type": "execute_result"
    }
   ],
   "source": [
    "df.describe()"
   ]
  },
  {
   "cell_type": "markdown",
   "metadata": {},
   "source": [
    "# 2. Cleaning Column Labels and Fixing Data Types"
   ]
  },
  {
   "cell_type": "markdown",
   "metadata": {},
   "source": [
    "## 2.1 Rename Column Labels"
   ]
  },
  {
   "cell_type": "code",
   "execution_count": 8,
   "metadata": {},
   "outputs": [
    {
     "data": {
      "text/html": [
       "<div>\n",
       "<style scoped>\n",
       "    .dataframe tbody tr th:only-of-type {\n",
       "        vertical-align: middle;\n",
       "    }\n",
       "\n",
       "    .dataframe tbody tr th {\n",
       "        vertical-align: top;\n",
       "    }\n",
       "\n",
       "    .dataframe thead th {\n",
       "        text-align: right;\n",
       "    }\n",
       "</style>\n",
       "<table border=\"1\" class=\"dataframe\">\n",
       "  <thead>\n",
       "    <tr style=\"text-align: right;\">\n",
       "      <th></th>\n",
       "      <th>patientid</th>\n",
       "      <th>appointmentid</th>\n",
       "      <th>gender</th>\n",
       "      <th>scheduledday</th>\n",
       "      <th>appointmentday</th>\n",
       "      <th>age</th>\n",
       "      <th>neighbourhood</th>\n",
       "      <th>scholarship</th>\n",
       "      <th>hipertension</th>\n",
       "      <th>diabetes</th>\n",
       "      <th>alcoholism</th>\n",
       "      <th>handcap</th>\n",
       "      <th>sms_received</th>\n",
       "      <th>no-show</th>\n",
       "    </tr>\n",
       "  </thead>\n",
       "  <tbody>\n",
       "  </tbody>\n",
       "</table>\n",
       "</div>"
      ],
      "text/plain": [
       "Empty DataFrame\n",
       "Columns: [patientid, appointmentid, gender, scheduledday, appointmentday, age, neighbourhood, scholarship, hipertension, diabetes, alcoholism, handcap, sms_received, no-show]\n",
       "Index: []"
      ]
     },
     "execution_count": 8,
     "metadata": {},
     "output_type": "execute_result"
    }
   ],
   "source": [
    "# from info , we can see we should change culmns labels to be lowercase and correct some spelling errors\n",
    "df.columns = df.columns.str.lower()\n",
    "df.head(0)"
   ]
  },
  {
   "cell_type": "code",
   "execution_count": 9,
   "metadata": {},
   "outputs": [],
   "source": [
    "df.rename(columns={'no-show' : 'no_show' , \n",
    "                   'patientid' : 'patient_id' , \n",
    "                   'appointmentid' : 'appointment_id',\n",
    "                   'hipertension': 'hypertension',\n",
    "                   'handcap': 'handicap',\n",
    "                   'neighbourhood'  :'neighborhood'} , inplace=True)"
   ]
  },
  {
   "cell_type": "code",
   "execution_count": 10,
   "metadata": {},
   "outputs": [
    {
     "data": {
      "text/html": [
       "<div>\n",
       "<style scoped>\n",
       "    .dataframe tbody tr th:only-of-type {\n",
       "        vertical-align: middle;\n",
       "    }\n",
       "\n",
       "    .dataframe tbody tr th {\n",
       "        vertical-align: top;\n",
       "    }\n",
       "\n",
       "    .dataframe thead th {\n",
       "        text-align: right;\n",
       "    }\n",
       "</style>\n",
       "<table border=\"1\" class=\"dataframe\">\n",
       "  <thead>\n",
       "    <tr style=\"text-align: right;\">\n",
       "      <th></th>\n",
       "      <th>patient_id</th>\n",
       "      <th>appointment_id</th>\n",
       "      <th>gender</th>\n",
       "      <th>scheduledday</th>\n",
       "      <th>appointmentday</th>\n",
       "      <th>age</th>\n",
       "      <th>neighborhood</th>\n",
       "      <th>scholarship</th>\n",
       "      <th>hypertension</th>\n",
       "      <th>diabetes</th>\n",
       "      <th>alcoholism</th>\n",
       "      <th>handicap</th>\n",
       "      <th>sms_received</th>\n",
       "      <th>no_show</th>\n",
       "    </tr>\n",
       "  </thead>\n",
       "  <tbody>\n",
       "  </tbody>\n",
       "</table>\n",
       "</div>"
      ],
      "text/plain": [
       "Empty DataFrame\n",
       "Columns: [patient_id, appointment_id, gender, scheduledday, appointmentday, age, neighborhood, scholarship, hypertension, diabetes, alcoholism, handicap, sms_received, no_show]\n",
       "Index: []"
      ]
     },
     "execution_count": 10,
     "metadata": {},
     "output_type": "execute_result"
    }
   ],
   "source": [
    "df.head(0)"
   ]
  },
  {
   "cell_type": "markdown",
   "metadata": {},
   "source": [
    "## 2.2 Fixing Data Types"
   ]
  },
  {
   "cell_type": "code",
   "execution_count": 11,
   "metadata": {},
   "outputs": [],
   "source": [
    "# the type of patient_id is float , it must convert it to int\n",
    "df['patient_id'] = df['patient_id'].astype(int)"
   ]
  },
  {
   "cell_type": "code",
   "execution_count": 12,
   "metadata": {},
   "outputs": [],
   "source": [
    "# the type of scheduled_day and  appointment_day is str\n",
    "# it must convert it to datetime\n",
    "df.appointmentday = df.appointmentday.apply(np.datetime64)\n",
    "df.scheduledday = df.scheduledday.apply(np.datetime64)\n"
   ]
  },
  {
   "cell_type": "code",
   "execution_count": 13,
   "metadata": {},
   "outputs": [
    {
     "name": "stdout",
     "output_type": "stream",
     "text": [
      "<class 'pandas.core.frame.DataFrame'>\n",
      "RangeIndex: 110527 entries, 0 to 110526\n",
      "Data columns (total 14 columns):\n",
      " #   Column          Non-Null Count   Dtype         \n",
      "---  ------          --------------   -----         \n",
      " 0   patient_id      110527 non-null  int64         \n",
      " 1   appointment_id  110527 non-null  int64         \n",
      " 2   gender          110527 non-null  object        \n",
      " 3   scheduledday    110527 non-null  datetime64[ns]\n",
      " 4   appointmentday  110527 non-null  datetime64[ns]\n",
      " 5   age             110527 non-null  int64         \n",
      " 6   neighborhood    110527 non-null  object        \n",
      " 7   scholarship     110527 non-null  int64         \n",
      " 8   hypertension    110527 non-null  int64         \n",
      " 9   diabetes        110527 non-null  int64         \n",
      " 10  alcoholism      110527 non-null  int64         \n",
      " 11  handicap        110527 non-null  int64         \n",
      " 12  sms_received    110527 non-null  int64         \n",
      " 13  no_show         110527 non-null  object        \n",
      "dtypes: datetime64[ns](2), int64(9), object(3)\n",
      "memory usage: 11.8+ MB\n"
     ]
    }
   ],
   "source": [
    "# checking the changes\n",
    "df.info()"
   ]
  },
  {
   "cell_type": "markdown",
   "metadata": {},
   "source": [
    "## 2.3 Checking The Data and Cleaning "
   ]
  },
  {
   "cell_type": "code",
   "execution_count": 14,
   "metadata": {},
   "outputs": [
    {
     "data": {
      "text/plain": [
       "patient_id        0\n",
       "appointment_id    0\n",
       "gender            0\n",
       "scheduledday      0\n",
       "appointmentday    0\n",
       "age               0\n",
       "neighborhood      0\n",
       "scholarship       0\n",
       "hypertension      0\n",
       "diabetes          0\n",
       "alcoholism        0\n",
       "handicap          0\n",
       "sms_received      0\n",
       "no_show           0\n",
       "dtype: int64"
      ]
     },
     "execution_count": 14,
     "metadata": {},
     "output_type": "execute_result"
    }
   ],
   "source": [
    "# checking if there any missing data\n",
    "df.isnull().sum()"
   ]
  },
  {
   "cell_type": "code",
   "execution_count": 15,
   "metadata": {},
   "outputs": [
    {
     "data": {
      "text/plain": [
       "0"
      ]
     },
     "execution_count": 15,
     "metadata": {},
     "output_type": "execute_result"
    }
   ],
   "source": [
    "#checking if there any duplicate rows\n",
    "df.duplicated().sum()"
   ]
  },
  {
   "cell_type": "code",
   "execution_count": 16,
   "metadata": {},
   "outputs": [
    {
     "name": "stdout",
     "output_type": "stream",
     "text": [
      "patient_id         62299\n",
      "appointment_id    110527\n",
      "gender                 2\n",
      "scheduledday      103549\n",
      "appointmentday        27\n",
      "age                  104\n",
      "neighborhood          81\n",
      "scholarship            2\n",
      "hypertension           2\n",
      "diabetes               2\n",
      "alcoholism             2\n",
      "handicap               5\n",
      "sms_received           2\n",
      "no_show                2\n",
      "dtype: int64\n"
     ]
    }
   ],
   "source": [
    "# checking the unique values\n",
    "uniquevalues = df.nunique()\n",
    "print(uniquevalues)"
   ]
  },
  {
   "cell_type": "markdown",
   "metadata": {},
   "source": [
    "### 2.3.1 Check Handicap"
   ]
  },
  {
   "cell_type": "code",
   "execution_count": 17,
   "metadata": {},
   "outputs": [
    {
     "data": {
      "text/plain": [
       "0    108286\n",
       "1      2042\n",
       "2       183\n",
       "3        13\n",
       "4         3\n",
       "Name: handicap, dtype: int64"
      ]
     },
     "execution_count": 17,
     "metadata": {},
     "output_type": "execute_result"
    }
   ],
   "source": [
    "# handicap culomn , it should have only 2 unique values !\n",
    "# 0 = have NOT handicap , 1 = have handicap \n",
    "df['handicap'].value_counts()"
   ]
  },
  {
   "cell_type": "code",
   "execution_count": 18,
   "metadata": {},
   "outputs": [
    {
     "data": {
      "text/html": [
       "<div>\n",
       "<style scoped>\n",
       "    .dataframe tbody tr th:only-of-type {\n",
       "        vertical-align: middle;\n",
       "    }\n",
       "\n",
       "    .dataframe tbody tr th {\n",
       "        vertical-align: top;\n",
       "    }\n",
       "\n",
       "    .dataframe thead th {\n",
       "        text-align: right;\n",
       "    }\n",
       "</style>\n",
       "<table border=\"1\" class=\"dataframe\">\n",
       "  <thead>\n",
       "    <tr style=\"text-align: right;\">\n",
       "      <th></th>\n",
       "      <th>patient_id</th>\n",
       "      <th>appointment_id</th>\n",
       "      <th>gender</th>\n",
       "      <th>scheduledday</th>\n",
       "      <th>appointmentday</th>\n",
       "      <th>age</th>\n",
       "      <th>neighborhood</th>\n",
       "      <th>scholarship</th>\n",
       "      <th>hypertension</th>\n",
       "      <th>diabetes</th>\n",
       "      <th>alcoholism</th>\n",
       "      <th>handicap</th>\n",
       "      <th>sms_received</th>\n",
       "      <th>no_show</th>\n",
       "    </tr>\n",
       "  </thead>\n",
       "  <tbody>\n",
       "    <tr>\n",
       "      <th>946</th>\n",
       "      <td>72825819926211</td>\n",
       "      <td>5582483</td>\n",
       "      <td>M</td>\n",
       "      <td>2016-04-14 09:26:08</td>\n",
       "      <td>2016-04-29</td>\n",
       "      <td>94</td>\n",
       "      <td>BELA VISTA</td>\n",
       "      <td>0</td>\n",
       "      <td>1</td>\n",
       "      <td>1</td>\n",
       "      <td>0</td>\n",
       "      <td>2</td>\n",
       "      <td>1</td>\n",
       "      <td>No</td>\n",
       "    </tr>\n",
       "    <tr>\n",
       "      <th>1665</th>\n",
       "      <td>12429193284112</td>\n",
       "      <td>5525497</td>\n",
       "      <td>M</td>\n",
       "      <td>2016-03-30 09:16:41</td>\n",
       "      <td>2016-04-29</td>\n",
       "      <td>64</td>\n",
       "      <td>SANTA MARTHA</td>\n",
       "      <td>0</td>\n",
       "      <td>1</td>\n",
       "      <td>0</td>\n",
       "      <td>1</td>\n",
       "      <td>2</td>\n",
       "      <td>1</td>\n",
       "      <td>No</td>\n",
       "    </tr>\n",
       "    <tr>\n",
       "      <th>1666</th>\n",
       "      <td>12429193284112</td>\n",
       "      <td>5525498</td>\n",
       "      <td>M</td>\n",
       "      <td>2016-03-30 09:16:41</td>\n",
       "      <td>2016-04-29</td>\n",
       "      <td>64</td>\n",
       "      <td>SANTA MARTHA</td>\n",
       "      <td>0</td>\n",
       "      <td>1</td>\n",
       "      <td>0</td>\n",
       "      <td>1</td>\n",
       "      <td>2</td>\n",
       "      <td>0</td>\n",
       "      <td>No</td>\n",
       "    </tr>\n",
       "    <tr>\n",
       "      <th>2071</th>\n",
       "      <td>12429193284112</td>\n",
       "      <td>5640120</td>\n",
       "      <td>M</td>\n",
       "      <td>2016-04-29 10:08:48</td>\n",
       "      <td>2016-04-29</td>\n",
       "      <td>64</td>\n",
       "      <td>SANTA MARTHA</td>\n",
       "      <td>0</td>\n",
       "      <td>1</td>\n",
       "      <td>0</td>\n",
       "      <td>1</td>\n",
       "      <td>2</td>\n",
       "      <td>0</td>\n",
       "      <td>No</td>\n",
       "    </tr>\n",
       "    <tr>\n",
       "      <th>2091</th>\n",
       "      <td>14918292313383</td>\n",
       "      <td>5638626</td>\n",
       "      <td>F</td>\n",
       "      <td>2016-04-29 08:13:59</td>\n",
       "      <td>2016-04-29</td>\n",
       "      <td>11</td>\n",
       "      <td>ANDORINHAS</td>\n",
       "      <td>0</td>\n",
       "      <td>0</td>\n",
       "      <td>0</td>\n",
       "      <td>0</td>\n",
       "      <td>2</td>\n",
       "      <td>0</td>\n",
       "      <td>No</td>\n",
       "    </tr>\n",
       "    <tr>\n",
       "      <th>...</th>\n",
       "      <td>...</td>\n",
       "      <td>...</td>\n",
       "      <td>...</td>\n",
       "      <td>...</td>\n",
       "      <td>...</td>\n",
       "      <td>...</td>\n",
       "      <td>...</td>\n",
       "      <td>...</td>\n",
       "      <td>...</td>\n",
       "      <td>...</td>\n",
       "      <td>...</td>\n",
       "      <td>...</td>\n",
       "      <td>...</td>\n",
       "      <td>...</td>\n",
       "    </tr>\n",
       "    <tr>\n",
       "      <th>108376</th>\n",
       "      <td>238721151823643</td>\n",
       "      <td>5756931</td>\n",
       "      <td>F</td>\n",
       "      <td>2016-06-01 08:48:28</td>\n",
       "      <td>2016-06-07</td>\n",
       "      <td>44</td>\n",
       "      <td>ROMÃO</td>\n",
       "      <td>0</td>\n",
       "      <td>1</td>\n",
       "      <td>1</td>\n",
       "      <td>0</td>\n",
       "      <td>2</td>\n",
       "      <td>1</td>\n",
       "      <td>No</td>\n",
       "    </tr>\n",
       "    <tr>\n",
       "      <th>109484</th>\n",
       "      <td>358949459162675</td>\n",
       "      <td>5752442</td>\n",
       "      <td>M</td>\n",
       "      <td>2016-05-31 11:45:57</td>\n",
       "      <td>2016-06-02</td>\n",
       "      <td>64</td>\n",
       "      <td>DA PENHA</td>\n",
       "      <td>0</td>\n",
       "      <td>1</td>\n",
       "      <td>1</td>\n",
       "      <td>0</td>\n",
       "      <td>2</td>\n",
       "      <td>0</td>\n",
       "      <td>No</td>\n",
       "    </tr>\n",
       "    <tr>\n",
       "      <th>109733</th>\n",
       "      <td>566297621534644</td>\n",
       "      <td>5772744</td>\n",
       "      <td>F</td>\n",
       "      <td>2016-06-03 16:11:00</td>\n",
       "      <td>2016-06-07</td>\n",
       "      <td>34</td>\n",
       "      <td>JUCUTUQUARA</td>\n",
       "      <td>0</td>\n",
       "      <td>0</td>\n",
       "      <td>0</td>\n",
       "      <td>0</td>\n",
       "      <td>2</td>\n",
       "      <td>1</td>\n",
       "      <td>No</td>\n",
       "    </tr>\n",
       "    <tr>\n",
       "      <th>109975</th>\n",
       "      <td>45221851115953</td>\n",
       "      <td>5766970</td>\n",
       "      <td>M</td>\n",
       "      <td>2016-06-02 16:07:36</td>\n",
       "      <td>2016-06-06</td>\n",
       "      <td>39</td>\n",
       "      <td>PRAIA DO SUÁ</td>\n",
       "      <td>1</td>\n",
       "      <td>0</td>\n",
       "      <td>0</td>\n",
       "      <td>0</td>\n",
       "      <td>2</td>\n",
       "      <td>1</td>\n",
       "      <td>No</td>\n",
       "    </tr>\n",
       "    <tr>\n",
       "      <th>110107</th>\n",
       "      <td>714371352369943</td>\n",
       "      <td>5761625</td>\n",
       "      <td>F</td>\n",
       "      <td>2016-06-02 06:44:00</td>\n",
       "      <td>2016-06-06</td>\n",
       "      <td>44</td>\n",
       "      <td>RESISTÊNCIA</td>\n",
       "      <td>0</td>\n",
       "      <td>0</td>\n",
       "      <td>0</td>\n",
       "      <td>0</td>\n",
       "      <td>2</td>\n",
       "      <td>1</td>\n",
       "      <td>No</td>\n",
       "    </tr>\n",
       "  </tbody>\n",
       "</table>\n",
       "<p>199 rows × 14 columns</p>\n",
       "</div>"
      ],
      "text/plain": [
       "             patient_id  appointment_id gender        scheduledday  \\\n",
       "946      72825819926211         5582483      M 2016-04-14 09:26:08   \n",
       "1665     12429193284112         5525497      M 2016-03-30 09:16:41   \n",
       "1666     12429193284112         5525498      M 2016-03-30 09:16:41   \n",
       "2071     12429193284112         5640120      M 2016-04-29 10:08:48   \n",
       "2091     14918292313383         5638626      F 2016-04-29 08:13:59   \n",
       "...                 ...             ...    ...                 ...   \n",
       "108376  238721151823643         5756931      F 2016-06-01 08:48:28   \n",
       "109484  358949459162675         5752442      M 2016-05-31 11:45:57   \n",
       "109733  566297621534644         5772744      F 2016-06-03 16:11:00   \n",
       "109975   45221851115953         5766970      M 2016-06-02 16:07:36   \n",
       "110107  714371352369943         5761625      F 2016-06-02 06:44:00   \n",
       "\n",
       "       appointmentday  age  neighborhood  scholarship  hypertension  diabetes  \\\n",
       "946        2016-04-29   94    BELA VISTA            0             1         1   \n",
       "1665       2016-04-29   64  SANTA MARTHA            0             1         0   \n",
       "1666       2016-04-29   64  SANTA MARTHA            0             1         0   \n",
       "2071       2016-04-29   64  SANTA MARTHA            0             1         0   \n",
       "2091       2016-04-29   11    ANDORINHAS            0             0         0   \n",
       "...               ...  ...           ...          ...           ...       ...   \n",
       "108376     2016-06-07   44         ROMÃO            0             1         1   \n",
       "109484     2016-06-02   64      DA PENHA            0             1         1   \n",
       "109733     2016-06-07   34   JUCUTUQUARA            0             0         0   \n",
       "109975     2016-06-06   39  PRAIA DO SUÁ            1             0         0   \n",
       "110107     2016-06-06   44   RESISTÊNCIA            0             0         0   \n",
       "\n",
       "        alcoholism  handicap  sms_received no_show  \n",
       "946              0         2             1      No  \n",
       "1665             1         2             1      No  \n",
       "1666             1         2             0      No  \n",
       "2071             1         2             0      No  \n",
       "2091             0         2             0      No  \n",
       "...            ...       ...           ...     ...  \n",
       "108376           0         2             1      No  \n",
       "109484           0         2             0      No  \n",
       "109733           0         2             1      No  \n",
       "109975           0         2             1      No  \n",
       "110107           0         2             1      No  \n",
       "\n",
       "[199 rows x 14 columns]"
      ]
     },
     "execution_count": 18,
     "metadata": {},
     "output_type": "execute_result"
    }
   ],
   "source": [
    "# see the wrong values of handicap\n",
    "handicap_query = df[df['handicap'] > 1]\n",
    "handicap_query"
   ]
  },
  {
   "cell_type": "code",
   "execution_count": 19,
   "metadata": {},
   "outputs": [],
   "source": [
    "# fix the values of handicap by converting wrong values to 1\n",
    "# any number NOT 0, it considers having a handicap\n",
    "df['handicap'].replace({2: 1 , 3:1 , 4:1} , inplace=True)\n"
   ]
  },
  {
   "cell_type": "code",
   "execution_count": 20,
   "metadata": {},
   "outputs": [
    {
     "data": {
      "text/plain": [
       "False"
      ]
     },
     "execution_count": 20,
     "metadata": {},
     "output_type": "execute_result"
    }
   ],
   "source": [
    "# checking the changes\n",
    "(df['handicap'] > 1).any()"
   ]
  },
  {
   "cell_type": "markdown",
   "metadata": {},
   "source": [
    "### 2.3.1 Check Age"
   ]
  },
  {
   "cell_type": "code",
   "execution_count": 21,
   "metadata": {},
   "outputs": [
    {
     "data": {
      "text/plain": [
       "array([ -1,   0,   1,   2,   3,   4,   5,   6,   7,   8,   9,  10,  11,\n",
       "        12,  13,  14,  15,  16,  17,  18,  19,  20,  21,  22,  23,  24,\n",
       "        25,  26,  27,  28,  29,  30,  31,  32,  33,  34,  35,  36,  37,\n",
       "        38,  39,  40,  41,  42,  43,  44,  45,  46,  47,  48,  49,  50,\n",
       "        51,  52,  53,  54,  55,  56,  57,  58,  59,  60,  61,  62,  63,\n",
       "        64,  65,  66,  67,  68,  69,  70,  71,  72,  73,  74,  75,  76,\n",
       "        77,  78,  79,  80,  81,  82,  83,  84,  85,  86,  87,  88,  89,\n",
       "        90,  91,  92,  93,  94,  95,  96,  97,  98,  99, 100, 102, 115])"
      ]
     },
     "execution_count": 21,
     "metadata": {},
     "output_type": "execute_result"
    }
   ],
   "source": [
    "# from unique values of age , we see 104 unique values\n",
    "# show up these unique values to see if it make sense\n",
    "age_unique = df['age'].unique()\n",
    "age_unique.sort()\n",
    "age_unique"
   ]
  },
  {
   "cell_type": "code",
   "execution_count": 22,
   "metadata": {
    "scrolled": true
   },
   "outputs": [
    {
     "data": {
      "text/html": [
       "<div>\n",
       "<style scoped>\n",
       "    .dataframe tbody tr th:only-of-type {\n",
       "        vertical-align: middle;\n",
       "    }\n",
       "\n",
       "    .dataframe tbody tr th {\n",
       "        vertical-align: top;\n",
       "    }\n",
       "\n",
       "    .dataframe thead th {\n",
       "        text-align: right;\n",
       "    }\n",
       "</style>\n",
       "<table border=\"1\" class=\"dataframe\">\n",
       "  <thead>\n",
       "    <tr style=\"text-align: right;\">\n",
       "      <th></th>\n",
       "      <th>patient_id</th>\n",
       "      <th>appointment_id</th>\n",
       "      <th>gender</th>\n",
       "      <th>scheduledday</th>\n",
       "      <th>appointmentday</th>\n",
       "      <th>age</th>\n",
       "      <th>neighborhood</th>\n",
       "      <th>scholarship</th>\n",
       "      <th>hypertension</th>\n",
       "      <th>diabetes</th>\n",
       "      <th>alcoholism</th>\n",
       "      <th>handicap</th>\n",
       "      <th>sms_received</th>\n",
       "      <th>no_show</th>\n",
       "    </tr>\n",
       "  </thead>\n",
       "  <tbody>\n",
       "    <tr>\n",
       "      <th>99832</th>\n",
       "      <td>465943158731293</td>\n",
       "      <td>5775010</td>\n",
       "      <td>F</td>\n",
       "      <td>2016-06-06 08:58:13</td>\n",
       "      <td>2016-06-06</td>\n",
       "      <td>-1</td>\n",
       "      <td>ROMÃO</td>\n",
       "      <td>0</td>\n",
       "      <td>0</td>\n",
       "      <td>0</td>\n",
       "      <td>0</td>\n",
       "      <td>0</td>\n",
       "      <td>0</td>\n",
       "      <td>No</td>\n",
       "    </tr>\n",
       "  </tbody>\n",
       "</table>\n",
       "</div>"
      ],
      "text/plain": [
       "            patient_id  appointment_id gender        scheduledday  \\\n",
       "99832  465943158731293         5775010      F 2016-06-06 08:58:13   \n",
       "\n",
       "      appointmentday  age neighborhood  scholarship  hypertension  diabetes  \\\n",
       "99832     2016-06-06   -1        ROMÃO            0             0         0   \n",
       "\n",
       "       alcoholism  handicap  sms_received no_show  \n",
       "99832           0         0             0      No  "
      ]
     },
     "execution_count": 22,
     "metadata": {},
     "output_type": "execute_result"
    }
   ],
   "source": [
    "# we see there  are some questionable ages (-1 )\n",
    "# first: checking age = -1\n",
    "age_query1 = df[df['age'] < 0]\n",
    "age_query1"
   ]
  },
  {
   "cell_type": "code",
   "execution_count": 23,
   "metadata": {},
   "outputs": [
    {
     "data": {
      "text/html": [
       "<div>\n",
       "<style scoped>\n",
       "    .dataframe tbody tr th:only-of-type {\n",
       "        vertical-align: middle;\n",
       "    }\n",
       "\n",
       "    .dataframe tbody tr th {\n",
       "        vertical-align: top;\n",
       "    }\n",
       "\n",
       "    .dataframe thead th {\n",
       "        text-align: right;\n",
       "    }\n",
       "</style>\n",
       "<table border=\"1\" class=\"dataframe\">\n",
       "  <thead>\n",
       "    <tr style=\"text-align: right;\">\n",
       "      <th></th>\n",
       "      <th>patient_id</th>\n",
       "      <th>appointment_id</th>\n",
       "      <th>gender</th>\n",
       "      <th>scheduledday</th>\n",
       "      <th>appointmentday</th>\n",
       "      <th>age</th>\n",
       "      <th>neighborhood</th>\n",
       "      <th>scholarship</th>\n",
       "      <th>hypertension</th>\n",
       "      <th>diabetes</th>\n",
       "      <th>alcoholism</th>\n",
       "      <th>handicap</th>\n",
       "      <th>sms_received</th>\n",
       "      <th>no_show</th>\n",
       "    </tr>\n",
       "  </thead>\n",
       "  <tbody>\n",
       "    <tr>\n",
       "      <th>99832</th>\n",
       "      <td>465943158731293</td>\n",
       "      <td>5775010</td>\n",
       "      <td>F</td>\n",
       "      <td>2016-06-06 08:58:13</td>\n",
       "      <td>2016-06-06</td>\n",
       "      <td>-1</td>\n",
       "      <td>ROMÃO</td>\n",
       "      <td>0</td>\n",
       "      <td>0</td>\n",
       "      <td>0</td>\n",
       "      <td>0</td>\n",
       "      <td>0</td>\n",
       "      <td>0</td>\n",
       "      <td>No</td>\n",
       "    </tr>\n",
       "  </tbody>\n",
       "</table>\n",
       "</div>"
      ],
      "text/plain": [
       "            patient_id  appointment_id gender        scheduledday  \\\n",
       "99832  465943158731293         5775010      F 2016-06-06 08:58:13   \n",
       "\n",
       "      appointmentday  age neighborhood  scholarship  hypertension  diabetes  \\\n",
       "99832     2016-06-06   -1        ROMÃO            0             0         0   \n",
       "\n",
       "       alcoholism  handicap  sms_received no_show  \n",
       "99832           0         0             0      No  "
      ]
     },
     "execution_count": 23,
     "metadata": {},
     "output_type": "execute_result"
    }
   ],
   "source": [
    "# search by patient_id to see if there any other recored for it\n",
    "id_query1 = df[df['patient_id'] == 465943158731293]\n",
    "id_query1\n"
   ]
  },
  {
   "cell_type": "code",
   "execution_count": 24,
   "metadata": {},
   "outputs": [],
   "source": [
    "# it seems there isn't recored for this patient_id , so we will drop it\n",
    "df.drop(id_query1.index , axis = 0 , inplace=True)\n"
   ]
  },
  {
   "cell_type": "code",
   "execution_count": 25,
   "metadata": {},
   "outputs": [
    {
     "data": {
      "text/plain": [
       "False"
      ]
     },
     "execution_count": 25,
     "metadata": {},
     "output_type": "execute_result"
    }
   ],
   "source": [
    "# checking of the drop\n",
    "(df['patient_id'] == 465943158731293).any()\n"
   ]
  },
  {
   "cell_type": "code",
   "execution_count": 26,
   "metadata": {},
   "outputs": [
    {
     "data": {
      "text/html": [
       "<div>\n",
       "<style scoped>\n",
       "    .dataframe tbody tr th:only-of-type {\n",
       "        vertical-align: middle;\n",
       "    }\n",
       "\n",
       "    .dataframe tbody tr th {\n",
       "        vertical-align: top;\n",
       "    }\n",
       "\n",
       "    .dataframe thead th {\n",
       "        text-align: right;\n",
       "    }\n",
       "</style>\n",
       "<table border=\"1\" class=\"dataframe\">\n",
       "  <thead>\n",
       "    <tr style=\"text-align: right;\">\n",
       "      <th></th>\n",
       "      <th>patient_id</th>\n",
       "      <th>appointment_id</th>\n",
       "      <th>gender</th>\n",
       "      <th>scheduledday</th>\n",
       "      <th>appointmentday</th>\n",
       "      <th>age</th>\n",
       "      <th>neighborhood</th>\n",
       "      <th>scholarship</th>\n",
       "      <th>hypertension</th>\n",
       "      <th>diabetes</th>\n",
       "      <th>alcoholism</th>\n",
       "      <th>handicap</th>\n",
       "      <th>sms_received</th>\n",
       "      <th>no_show</th>\n",
       "    </tr>\n",
       "  </thead>\n",
       "  <tbody>\n",
       "    <tr>\n",
       "      <th>58014</th>\n",
       "      <td>976294799775439</td>\n",
       "      <td>5651757</td>\n",
       "      <td>F</td>\n",
       "      <td>2016-05-03 09:14:53</td>\n",
       "      <td>2016-05-03</td>\n",
       "      <td>102</td>\n",
       "      <td>CONQUISTA</td>\n",
       "      <td>0</td>\n",
       "      <td>0</td>\n",
       "      <td>0</td>\n",
       "      <td>0</td>\n",
       "      <td>0</td>\n",
       "      <td>0</td>\n",
       "      <td>No</td>\n",
       "    </tr>\n",
       "    <tr>\n",
       "      <th>63912</th>\n",
       "      <td>31963211613981</td>\n",
       "      <td>5700278</td>\n",
       "      <td>F</td>\n",
       "      <td>2016-05-16 09:17:44</td>\n",
       "      <td>2016-05-19</td>\n",
       "      <td>115</td>\n",
       "      <td>ANDORINHAS</td>\n",
       "      <td>0</td>\n",
       "      <td>0</td>\n",
       "      <td>0</td>\n",
       "      <td>0</td>\n",
       "      <td>1</td>\n",
       "      <td>0</td>\n",
       "      <td>Yes</td>\n",
       "    </tr>\n",
       "    <tr>\n",
       "      <th>63915</th>\n",
       "      <td>31963211613981</td>\n",
       "      <td>5700279</td>\n",
       "      <td>F</td>\n",
       "      <td>2016-05-16 09:17:44</td>\n",
       "      <td>2016-05-19</td>\n",
       "      <td>115</td>\n",
       "      <td>ANDORINHAS</td>\n",
       "      <td>0</td>\n",
       "      <td>0</td>\n",
       "      <td>0</td>\n",
       "      <td>0</td>\n",
       "      <td>1</td>\n",
       "      <td>0</td>\n",
       "      <td>Yes</td>\n",
       "    </tr>\n",
       "    <tr>\n",
       "      <th>68127</th>\n",
       "      <td>31963211613981</td>\n",
       "      <td>5562812</td>\n",
       "      <td>F</td>\n",
       "      <td>2016-04-08 14:29:17</td>\n",
       "      <td>2016-05-16</td>\n",
       "      <td>115</td>\n",
       "      <td>ANDORINHAS</td>\n",
       "      <td>0</td>\n",
       "      <td>0</td>\n",
       "      <td>0</td>\n",
       "      <td>0</td>\n",
       "      <td>1</td>\n",
       "      <td>0</td>\n",
       "      <td>Yes</td>\n",
       "    </tr>\n",
       "    <tr>\n",
       "      <th>76284</th>\n",
       "      <td>31963211613981</td>\n",
       "      <td>5744037</td>\n",
       "      <td>F</td>\n",
       "      <td>2016-05-30 09:44:51</td>\n",
       "      <td>2016-05-30</td>\n",
       "      <td>115</td>\n",
       "      <td>ANDORINHAS</td>\n",
       "      <td>0</td>\n",
       "      <td>0</td>\n",
       "      <td>0</td>\n",
       "      <td>0</td>\n",
       "      <td>1</td>\n",
       "      <td>0</td>\n",
       "      <td>No</td>\n",
       "    </tr>\n",
       "    <tr>\n",
       "      <th>90372</th>\n",
       "      <td>234283596548</td>\n",
       "      <td>5751563</td>\n",
       "      <td>F</td>\n",
       "      <td>2016-05-31 10:19:49</td>\n",
       "      <td>2016-06-02</td>\n",
       "      <td>102</td>\n",
       "      <td>MARIA ORTIZ</td>\n",
       "      <td>0</td>\n",
       "      <td>0</td>\n",
       "      <td>0</td>\n",
       "      <td>0</td>\n",
       "      <td>0</td>\n",
       "      <td>0</td>\n",
       "      <td>No</td>\n",
       "    </tr>\n",
       "    <tr>\n",
       "      <th>97666</th>\n",
       "      <td>748234579244724</td>\n",
       "      <td>5717451</td>\n",
       "      <td>F</td>\n",
       "      <td>2016-05-19 07:57:56</td>\n",
       "      <td>2016-06-03</td>\n",
       "      <td>115</td>\n",
       "      <td>SÃO JOSÉ</td>\n",
       "      <td>0</td>\n",
       "      <td>1</td>\n",
       "      <td>0</td>\n",
       "      <td>0</td>\n",
       "      <td>0</td>\n",
       "      <td>1</td>\n",
       "      <td>No</td>\n",
       "    </tr>\n",
       "  </tbody>\n",
       "</table>\n",
       "</div>"
      ],
      "text/plain": [
       "            patient_id  appointment_id gender        scheduledday  \\\n",
       "58014  976294799775439         5651757      F 2016-05-03 09:14:53   \n",
       "63912   31963211613981         5700278      F 2016-05-16 09:17:44   \n",
       "63915   31963211613981         5700279      F 2016-05-16 09:17:44   \n",
       "68127   31963211613981         5562812      F 2016-04-08 14:29:17   \n",
       "76284   31963211613981         5744037      F 2016-05-30 09:44:51   \n",
       "90372     234283596548         5751563      F 2016-05-31 10:19:49   \n",
       "97666  748234579244724         5717451      F 2016-05-19 07:57:56   \n",
       "\n",
       "      appointmentday  age neighborhood  scholarship  hypertension  diabetes  \\\n",
       "58014     2016-05-03  102    CONQUISTA            0             0         0   \n",
       "63912     2016-05-19  115   ANDORINHAS            0             0         0   \n",
       "63915     2016-05-19  115   ANDORINHAS            0             0         0   \n",
       "68127     2016-05-16  115   ANDORINHAS            0             0         0   \n",
       "76284     2016-05-30  115   ANDORINHAS            0             0         0   \n",
       "90372     2016-06-02  102  MARIA ORTIZ            0             0         0   \n",
       "97666     2016-06-03  115     SÃO JOSÉ            0             1         0   \n",
       "\n",
       "       alcoholism  handicap  sms_received no_show  \n",
       "58014           0         0             0      No  \n",
       "63912           0         1             0     Yes  \n",
       "63915           0         1             0     Yes  \n",
       "68127           0         1             0     Yes  \n",
       "76284           0         1             0      No  \n",
       "90372           0         0             0      No  \n",
       "97666           0         0             1      No  "
      ]
     },
     "execution_count": 26,
     "metadata": {},
     "output_type": "execute_result"
    }
   ],
   "source": [
    "# second :  age > 115\n",
    "age_query2 = df[df['age'] > 100 ]\n",
    "age_query2"
   ]
  },
  {
   "cell_type": "code",
   "execution_count": 27,
   "metadata": {},
   "outputs": [],
   "source": [
    "# will drop patients who are thier ages > 100\n",
    "df.drop(age_query2.index , axis=0 , inplace=True)"
   ]
  },
  {
   "cell_type": "code",
   "execution_count": 28,
   "metadata": {},
   "outputs": [
    {
     "data": {
      "text/plain": [
       "False"
      ]
     },
     "execution_count": 28,
     "metadata": {},
     "output_type": "execute_result"
    }
   ],
   "source": [
    "# checking of the drop\n",
    "(df['age'] > 100).any()\n"
   ]
  },
  {
   "cell_type": "code",
   "execution_count": 29,
   "metadata": {},
   "outputs": [
    {
     "data": {
      "text/html": [
       "<div>\n",
       "<style scoped>\n",
       "    .dataframe tbody tr th:only-of-type {\n",
       "        vertical-align: middle;\n",
       "    }\n",
       "\n",
       "    .dataframe tbody tr th {\n",
       "        vertical-align: top;\n",
       "    }\n",
       "\n",
       "    .dataframe thead th {\n",
       "        text-align: right;\n",
       "    }\n",
       "</style>\n",
       "<table border=\"1\" class=\"dataframe\">\n",
       "  <thead>\n",
       "    <tr style=\"text-align: right;\">\n",
       "      <th></th>\n",
       "      <th>patient_id</th>\n",
       "      <th>appointment_id</th>\n",
       "      <th>gender</th>\n",
       "      <th>scheduledday</th>\n",
       "      <th>appointmentday</th>\n",
       "      <th>age</th>\n",
       "      <th>neighborhood</th>\n",
       "      <th>scholarship</th>\n",
       "      <th>hypertension</th>\n",
       "      <th>diabetes</th>\n",
       "      <th>alcoholism</th>\n",
       "      <th>handicap</th>\n",
       "      <th>sms_received</th>\n",
       "      <th>no_show</th>\n",
       "    </tr>\n",
       "  </thead>\n",
       "  <tbody>\n",
       "    <tr>\n",
       "      <th>59</th>\n",
       "      <td>71844284745331</td>\n",
       "      <td>5638545</td>\n",
       "      <td>F</td>\n",
       "      <td>2016-04-29 08:08:43</td>\n",
       "      <td>2016-04-29</td>\n",
       "      <td>0</td>\n",
       "      <td>CONQUISTA</td>\n",
       "      <td>0</td>\n",
       "      <td>0</td>\n",
       "      <td>0</td>\n",
       "      <td>0</td>\n",
       "      <td>0</td>\n",
       "      <td>0</td>\n",
       "      <td>No</td>\n",
       "    </tr>\n",
       "    <tr>\n",
       "      <th>63</th>\n",
       "      <td>236623344873175</td>\n",
       "      <td>5628286</td>\n",
       "      <td>M</td>\n",
       "      <td>2016-04-27 10:46:12</td>\n",
       "      <td>2016-04-29</td>\n",
       "      <td>0</td>\n",
       "      <td>SÃO BENEDITO</td>\n",
       "      <td>0</td>\n",
       "      <td>0</td>\n",
       "      <td>0</td>\n",
       "      <td>0</td>\n",
       "      <td>0</td>\n",
       "      <td>0</td>\n",
       "      <td>No</td>\n",
       "    </tr>\n",
       "    <tr>\n",
       "      <th>64</th>\n",
       "      <td>188517384712787</td>\n",
       "      <td>5616082</td>\n",
       "      <td>M</td>\n",
       "      <td>2016-04-25 13:28:21</td>\n",
       "      <td>2016-04-29</td>\n",
       "      <td>0</td>\n",
       "      <td>ILHA DAS CAIEIRAS</td>\n",
       "      <td>0</td>\n",
       "      <td>0</td>\n",
       "      <td>0</td>\n",
       "      <td>0</td>\n",
       "      <td>0</td>\n",
       "      <td>1</td>\n",
       "      <td>No</td>\n",
       "    </tr>\n",
       "    <tr>\n",
       "      <th>65</th>\n",
       "      <td>271881817799985</td>\n",
       "      <td>5628321</td>\n",
       "      <td>M</td>\n",
       "      <td>2016-04-27 10:48:50</td>\n",
       "      <td>2016-04-29</td>\n",
       "      <td>0</td>\n",
       "      <td>CONQUISTA</td>\n",
       "      <td>0</td>\n",
       "      <td>0</td>\n",
       "      <td>0</td>\n",
       "      <td>0</td>\n",
       "      <td>0</td>\n",
       "      <td>0</td>\n",
       "      <td>No</td>\n",
       "    </tr>\n",
       "    <tr>\n",
       "      <th>67</th>\n",
       "      <td>86471282513499</td>\n",
       "      <td>5639264</td>\n",
       "      <td>F</td>\n",
       "      <td>2016-04-29 08:53:02</td>\n",
       "      <td>2016-04-29</td>\n",
       "      <td>0</td>\n",
       "      <td>NOVA PALESTINA</td>\n",
       "      <td>0</td>\n",
       "      <td>0</td>\n",
       "      <td>0</td>\n",
       "      <td>0</td>\n",
       "      <td>0</td>\n",
       "      <td>0</td>\n",
       "      <td>No</td>\n",
       "    </tr>\n",
       "    <tr>\n",
       "      <th>...</th>\n",
       "      <td>...</td>\n",
       "      <td>...</td>\n",
       "      <td>...</td>\n",
       "      <td>...</td>\n",
       "      <td>...</td>\n",
       "      <td>...</td>\n",
       "      <td>...</td>\n",
       "      <td>...</td>\n",
       "      <td>...</td>\n",
       "      <td>...</td>\n",
       "      <td>...</td>\n",
       "      <td>...</td>\n",
       "      <td>...</td>\n",
       "      <td>...</td>\n",
       "    </tr>\n",
       "    <tr>\n",
       "      <th>110345</th>\n",
       "      <td>147395196662956</td>\n",
       "      <td>5702537</td>\n",
       "      <td>F</td>\n",
       "      <td>2016-05-16 12:30:58</td>\n",
       "      <td>2016-06-01</td>\n",
       "      <td>0</td>\n",
       "      <td>RESISTÊNCIA</td>\n",
       "      <td>0</td>\n",
       "      <td>0</td>\n",
       "      <td>0</td>\n",
       "      <td>0</td>\n",
       "      <td>0</td>\n",
       "      <td>0</td>\n",
       "      <td>No</td>\n",
       "    </tr>\n",
       "    <tr>\n",
       "      <th>110346</th>\n",
       "      <td>5577525313231</td>\n",
       "      <td>5777724</td>\n",
       "      <td>M</td>\n",
       "      <td>2016-06-06 14:22:34</td>\n",
       "      <td>2016-06-08</td>\n",
       "      <td>0</td>\n",
       "      <td>RESISTÊNCIA</td>\n",
       "      <td>0</td>\n",
       "      <td>0</td>\n",
       "      <td>0</td>\n",
       "      <td>0</td>\n",
       "      <td>0</td>\n",
       "      <td>0</td>\n",
       "      <td>No</td>\n",
       "    </tr>\n",
       "    <tr>\n",
       "      <th>110454</th>\n",
       "      <td>614245995575</td>\n",
       "      <td>5772400</td>\n",
       "      <td>F</td>\n",
       "      <td>2016-06-03 15:18:44</td>\n",
       "      <td>2016-06-03</td>\n",
       "      <td>0</td>\n",
       "      <td>RESISTÊNCIA</td>\n",
       "      <td>0</td>\n",
       "      <td>0</td>\n",
       "      <td>0</td>\n",
       "      <td>0</td>\n",
       "      <td>0</td>\n",
       "      <td>0</td>\n",
       "      <td>No</td>\n",
       "    </tr>\n",
       "    <tr>\n",
       "      <th>110460</th>\n",
       "      <td>43218463343323</td>\n",
       "      <td>5769545</td>\n",
       "      <td>F</td>\n",
       "      <td>2016-06-03 08:56:51</td>\n",
       "      <td>2016-06-03</td>\n",
       "      <td>0</td>\n",
       "      <td>RESISTÊNCIA</td>\n",
       "      <td>0</td>\n",
       "      <td>0</td>\n",
       "      <td>0</td>\n",
       "      <td>0</td>\n",
       "      <td>0</td>\n",
       "      <td>0</td>\n",
       "      <td>No</td>\n",
       "    </tr>\n",
       "    <tr>\n",
       "      <th>110507</th>\n",
       "      <td>476946211846992</td>\n",
       "      <td>5786918</td>\n",
       "      <td>F</td>\n",
       "      <td>2016-06-08 09:04:18</td>\n",
       "      <td>2016-06-08</td>\n",
       "      <td>0</td>\n",
       "      <td>MARIA ORTIZ</td>\n",
       "      <td>0</td>\n",
       "      <td>0</td>\n",
       "      <td>0</td>\n",
       "      <td>0</td>\n",
       "      <td>0</td>\n",
       "      <td>0</td>\n",
       "      <td>No</td>\n",
       "    </tr>\n",
       "  </tbody>\n",
       "</table>\n",
       "<p>3539 rows × 14 columns</p>\n",
       "</div>"
      ],
      "text/plain": [
       "             patient_id  appointment_id gender        scheduledday  \\\n",
       "59       71844284745331         5638545      F 2016-04-29 08:08:43   \n",
       "63      236623344873175         5628286      M 2016-04-27 10:46:12   \n",
       "64      188517384712787         5616082      M 2016-04-25 13:28:21   \n",
       "65      271881817799985         5628321      M 2016-04-27 10:48:50   \n",
       "67       86471282513499         5639264      F 2016-04-29 08:53:02   \n",
       "...                 ...             ...    ...                 ...   \n",
       "110345  147395196662956         5702537      F 2016-05-16 12:30:58   \n",
       "110346    5577525313231         5777724      M 2016-06-06 14:22:34   \n",
       "110454     614245995575         5772400      F 2016-06-03 15:18:44   \n",
       "110460   43218463343323         5769545      F 2016-06-03 08:56:51   \n",
       "110507  476946211846992         5786918      F 2016-06-08 09:04:18   \n",
       "\n",
       "       appointmentday  age       neighborhood  scholarship  hypertension  \\\n",
       "59         2016-04-29    0          CONQUISTA            0             0   \n",
       "63         2016-04-29    0       SÃO BENEDITO            0             0   \n",
       "64         2016-04-29    0  ILHA DAS CAIEIRAS            0             0   \n",
       "65         2016-04-29    0          CONQUISTA            0             0   \n",
       "67         2016-04-29    0     NOVA PALESTINA            0             0   \n",
       "...               ...  ...                ...          ...           ...   \n",
       "110345     2016-06-01    0        RESISTÊNCIA            0             0   \n",
       "110346     2016-06-08    0        RESISTÊNCIA            0             0   \n",
       "110454     2016-06-03    0        RESISTÊNCIA            0             0   \n",
       "110460     2016-06-03    0        RESISTÊNCIA            0             0   \n",
       "110507     2016-06-08    0        MARIA ORTIZ            0             0   \n",
       "\n",
       "        diabetes  alcoholism  handicap  sms_received no_show  \n",
       "59             0           0         0             0      No  \n",
       "63             0           0         0             0      No  \n",
       "64             0           0         0             1      No  \n",
       "65             0           0         0             0      No  \n",
       "67             0           0         0             0      No  \n",
       "...          ...         ...       ...           ...     ...  \n",
       "110345         0           0         0             0      No  \n",
       "110346         0           0         0             0      No  \n",
       "110454         0           0         0             0      No  \n",
       "110460         0           0         0             0      No  \n",
       "110507         0           0         0             0      No  \n",
       "\n",
       "[3539 rows x 14 columns]"
      ]
     },
     "execution_count": 29,
     "metadata": {},
     "output_type": "execute_result"
    }
   ],
   "source": [
    "# third: checking the age = 0 , 0 means the age start with age 1 day and less than 1 year\n",
    "age_query3 = df[df['age'] == 0 ]\n",
    "age_query3"
   ]
  },
  {
   "cell_type": "markdown",
   "metadata": {},
   "source": [
    "### 2.3.3 Sechedul day and Appointment day\n",
    "Add New Columns from  Sechedul day and Appointment day"
   ]
  },
  {
   "cell_type": "code",
   "execution_count": 30,
   "metadata": {},
   "outputs": [
    {
     "data": {
      "text/plain": [
       "('The data for sechedul day started at 2015-11-10 07:13:56 and the last date is 2016-06-08 20:07:23',\n",
       " 'The data for appointment day started at 2016-04-29 00:00:00 and the last date is 2016-06-08 00:00:00')"
      ]
     },
     "execution_count": 30,
     "metadata": {},
     "output_type": "execute_result"
    }
   ],
   "source": [
    "# the period of sechedul_day\n",
    "sechedul_day_period  = 'The data for sechedul day started at {} and the last date is {}'.format(df.scheduledday.min(),df.scheduledday.max())\n",
    "# the period of appointment_day \n",
    "appointment_day_period  = 'The data for appointment day started at {} and the last date is {}'.format(df.appointmentday.min(),df.appointmentday.max())\n",
    "sechedul_day_period , appointment_day_period"
   ]
  },
  {
   "cell_type": "code",
   "execution_count": 31,
   "metadata": {},
   "outputs": [],
   "source": [
    "# extracting the hour/day /month/year for each sechedul_day in new columns\n",
    "df.insert(4 ,'year_of_sechedul', 'year_of_sechedul')\n",
    "df.insert(5 ,'month_of_sechedul', 'month_of_sechedul')\n",
    "df.insert(6 ,'day_of_sechedul', 'day_of_sechedul')\n",
    "df.insert(7 ,'time_of_sechedul', 'time_of_sechedul')\n",
    "\n",
    "df['year_of_sechedul'] = df['scheduledday'].dt.year\n",
    "df['month_of_sechedul'] = df['scheduledday'].dt.month_name()\n",
    "df['day_of_sechedul'] = df['scheduledday'].dt.day_name()\n",
    "df['time_of_sechedul'] = df['scheduledday'].dt.strftime('%H:%M')\n"
   ]
  },
  {
   "cell_type": "code",
   "execution_count": 32,
   "metadata": {},
   "outputs": [],
   "source": [
    "# extracting the day /month/year for each appointment_day in new columns\n",
    "df.insert(9 ,'year_of_appointment', 'year_of_appointment')\n",
    "df.insert(10 ,'month_of_appointment', 'month_of_appointment')\n",
    "df.insert(11 ,'day_of_appointment', 'day_of_appointment')\n",
    "\n",
    "df['year_of_appointment'] = df['appointmentday'].dt.year\n",
    "df['month_of_appointment'] = df['appointmentday'].dt.month_name()\n",
    "df['day_of_appointment'] = df['appointmentday'].dt.day_name()"
   ]
  },
  {
   "cell_type": "code",
   "execution_count": 33,
   "metadata": {},
   "outputs": [],
   "source": [
    "# drop the scheduledday and appointmentday\n",
    "df.drop('scheduledday', axis = 1 , inplace=True)\n",
    "df.drop('appointmentday', axis = 1 , inplace=True)\n"
   ]
  },
  {
   "cell_type": "code",
   "execution_count": 34,
   "metadata": {},
   "outputs": [
    {
     "data": {
      "text/html": [
       "<div>\n",
       "<style scoped>\n",
       "    .dataframe tbody tr th:only-of-type {\n",
       "        vertical-align: middle;\n",
       "    }\n",
       "\n",
       "    .dataframe tbody tr th {\n",
       "        vertical-align: top;\n",
       "    }\n",
       "\n",
       "    .dataframe thead th {\n",
       "        text-align: right;\n",
       "    }\n",
       "</style>\n",
       "<table border=\"1\" class=\"dataframe\">\n",
       "  <thead>\n",
       "    <tr style=\"text-align: right;\">\n",
       "      <th></th>\n",
       "      <th>patient_id</th>\n",
       "      <th>appointment_id</th>\n",
       "      <th>gender</th>\n",
       "      <th>year_of_sechedul</th>\n",
       "      <th>month_of_sechedul</th>\n",
       "      <th>day_of_sechedul</th>\n",
       "      <th>time_of_sechedul</th>\n",
       "      <th>year_of_appointment</th>\n",
       "      <th>month_of_appointment</th>\n",
       "      <th>day_of_appointment</th>\n",
       "      <th>age</th>\n",
       "      <th>neighborhood</th>\n",
       "      <th>scholarship</th>\n",
       "      <th>hypertension</th>\n",
       "      <th>diabetes</th>\n",
       "      <th>alcoholism</th>\n",
       "      <th>handicap</th>\n",
       "      <th>sms_received</th>\n",
       "      <th>no_show</th>\n",
       "    </tr>\n",
       "  </thead>\n",
       "  <tbody>\n",
       "  </tbody>\n",
       "</table>\n",
       "</div>"
      ],
      "text/plain": [
       "Empty DataFrame\n",
       "Columns: [patient_id, appointment_id, gender, year_of_sechedul, month_of_sechedul, day_of_sechedul, time_of_sechedul, year_of_appointment, month_of_appointment, day_of_appointment, age, neighborhood, scholarship, hypertension, diabetes, alcoholism, handicap, sms_received, no_show]\n",
       "Index: []"
      ]
     },
     "execution_count": 34,
     "metadata": {},
     "output_type": "execute_result"
    }
   ],
   "source": [
    "# checking the drop\n",
    "df.head(0)"
   ]
  },
  {
   "cell_type": "markdown",
   "metadata": {},
   "source": [
    "### 2.3.4 Check No_Show"
   ]
  },
  {
   "cell_type": "code",
   "execution_count": 35,
   "metadata": {},
   "outputs": [
    {
     "data": {
      "text/plain": [
       "No     88203\n",
       "Yes    22316\n",
       "Name: no_show, dtype: int64"
      ]
     },
     "execution_count": 35,
     "metadata": {},
     "output_type": "execute_result"
    }
   ],
   "source": [
    "#No = Show up in the appointment\n",
    "#Yes = did not show up in the appointment)\n",
    "df['no_show'].value_counts()"
   ]
  },
  {
   "cell_type": "code",
   "execution_count": 36,
   "metadata": {},
   "outputs": [],
   "source": [
    "# in order to be more easy to under stand ,rename the culolmn \n",
    "# then reverse the data to be : yes = show up , no = did not show up\n",
    "df.rename(columns = {'no_show' : 'show_up' } , inplace=True)"
   ]
  },
  {
   "cell_type": "code",
   "execution_count": 37,
   "metadata": {},
   "outputs": [],
   "source": [
    "df['show_up'].replace({'No' : 'yes' , 'Yes' : 'no'} , inplace=True)"
   ]
  },
  {
   "cell_type": "code",
   "execution_count": 38,
   "metadata": {},
   "outputs": [
    {
     "data": {
      "text/html": [
       "<div>\n",
       "<style scoped>\n",
       "    .dataframe tbody tr th:only-of-type {\n",
       "        vertical-align: middle;\n",
       "    }\n",
       "\n",
       "    .dataframe tbody tr th {\n",
       "        vertical-align: top;\n",
       "    }\n",
       "\n",
       "    .dataframe thead th {\n",
       "        text-align: right;\n",
       "    }\n",
       "</style>\n",
       "<table border=\"1\" class=\"dataframe\">\n",
       "  <thead>\n",
       "    <tr style=\"text-align: right;\">\n",
       "      <th></th>\n",
       "      <th>patient_id</th>\n",
       "      <th>appointment_id</th>\n",
       "      <th>gender</th>\n",
       "      <th>year_of_sechedul</th>\n",
       "      <th>month_of_sechedul</th>\n",
       "      <th>day_of_sechedul</th>\n",
       "      <th>time_of_sechedul</th>\n",
       "      <th>year_of_appointment</th>\n",
       "      <th>month_of_appointment</th>\n",
       "      <th>day_of_appointment</th>\n",
       "      <th>age</th>\n",
       "      <th>neighborhood</th>\n",
       "      <th>scholarship</th>\n",
       "      <th>hypertension</th>\n",
       "      <th>diabetes</th>\n",
       "      <th>alcoholism</th>\n",
       "      <th>handicap</th>\n",
       "      <th>sms_received</th>\n",
       "      <th>show_up</th>\n",
       "    </tr>\n",
       "  </thead>\n",
       "  <tbody>\n",
       "    <tr>\n",
       "      <th>0</th>\n",
       "      <td>29872499824296</td>\n",
       "      <td>5642903</td>\n",
       "      <td>F</td>\n",
       "      <td>2016</td>\n",
       "      <td>April</td>\n",
       "      <td>Friday</td>\n",
       "      <td>18:38</td>\n",
       "      <td>2016</td>\n",
       "      <td>April</td>\n",
       "      <td>Friday</td>\n",
       "      <td>62</td>\n",
       "      <td>JARDIM DA PENHA</td>\n",
       "      <td>0</td>\n",
       "      <td>1</td>\n",
       "      <td>0</td>\n",
       "      <td>0</td>\n",
       "      <td>0</td>\n",
       "      <td>0</td>\n",
       "      <td>yes</td>\n",
       "    </tr>\n",
       "    <tr>\n",
       "      <th>1</th>\n",
       "      <td>558997776694438</td>\n",
       "      <td>5642503</td>\n",
       "      <td>M</td>\n",
       "      <td>2016</td>\n",
       "      <td>April</td>\n",
       "      <td>Friday</td>\n",
       "      <td>16:08</td>\n",
       "      <td>2016</td>\n",
       "      <td>April</td>\n",
       "      <td>Friday</td>\n",
       "      <td>56</td>\n",
       "      <td>JARDIM DA PENHA</td>\n",
       "      <td>0</td>\n",
       "      <td>0</td>\n",
       "      <td>0</td>\n",
       "      <td>0</td>\n",
       "      <td>0</td>\n",
       "      <td>0</td>\n",
       "      <td>yes</td>\n",
       "    </tr>\n",
       "    <tr>\n",
       "      <th>2</th>\n",
       "      <td>4262962299951</td>\n",
       "      <td>5642549</td>\n",
       "      <td>F</td>\n",
       "      <td>2016</td>\n",
       "      <td>April</td>\n",
       "      <td>Friday</td>\n",
       "      <td>16:19</td>\n",
       "      <td>2016</td>\n",
       "      <td>April</td>\n",
       "      <td>Friday</td>\n",
       "      <td>62</td>\n",
       "      <td>MATA DA PRAIA</td>\n",
       "      <td>0</td>\n",
       "      <td>0</td>\n",
       "      <td>0</td>\n",
       "      <td>0</td>\n",
       "      <td>0</td>\n",
       "      <td>0</td>\n",
       "      <td>yes</td>\n",
       "    </tr>\n",
       "    <tr>\n",
       "      <th>3</th>\n",
       "      <td>867951213174</td>\n",
       "      <td>5642828</td>\n",
       "      <td>F</td>\n",
       "      <td>2016</td>\n",
       "      <td>April</td>\n",
       "      <td>Friday</td>\n",
       "      <td>17:29</td>\n",
       "      <td>2016</td>\n",
       "      <td>April</td>\n",
       "      <td>Friday</td>\n",
       "      <td>8</td>\n",
       "      <td>PONTAL DE CAMBURI</td>\n",
       "      <td>0</td>\n",
       "      <td>0</td>\n",
       "      <td>0</td>\n",
       "      <td>0</td>\n",
       "      <td>0</td>\n",
       "      <td>0</td>\n",
       "      <td>yes</td>\n",
       "    </tr>\n",
       "    <tr>\n",
       "      <th>4</th>\n",
       "      <td>8841186448183</td>\n",
       "      <td>5642494</td>\n",
       "      <td>F</td>\n",
       "      <td>2016</td>\n",
       "      <td>April</td>\n",
       "      <td>Friday</td>\n",
       "      <td>16:07</td>\n",
       "      <td>2016</td>\n",
       "      <td>April</td>\n",
       "      <td>Friday</td>\n",
       "      <td>56</td>\n",
       "      <td>JARDIM DA PENHA</td>\n",
       "      <td>0</td>\n",
       "      <td>1</td>\n",
       "      <td>1</td>\n",
       "      <td>0</td>\n",
       "      <td>0</td>\n",
       "      <td>0</td>\n",
       "      <td>yes</td>\n",
       "    </tr>\n",
       "  </tbody>\n",
       "</table>\n",
       "</div>"
      ],
      "text/plain": [
       "        patient_id  appointment_id gender  year_of_sechedul month_of_sechedul  \\\n",
       "0   29872499824296         5642903      F              2016             April   \n",
       "1  558997776694438         5642503      M              2016             April   \n",
       "2    4262962299951         5642549      F              2016             April   \n",
       "3     867951213174         5642828      F              2016             April   \n",
       "4    8841186448183         5642494      F              2016             April   \n",
       "\n",
       "  day_of_sechedul time_of_sechedul  year_of_appointment month_of_appointment  \\\n",
       "0          Friday            18:38                 2016                April   \n",
       "1          Friday            16:08                 2016                April   \n",
       "2          Friday            16:19                 2016                April   \n",
       "3          Friday            17:29                 2016                April   \n",
       "4          Friday            16:07                 2016                April   \n",
       "\n",
       "  day_of_appointment  age       neighborhood  scholarship  hypertension  \\\n",
       "0             Friday   62    JARDIM DA PENHA            0             1   \n",
       "1             Friday   56    JARDIM DA PENHA            0             0   \n",
       "2             Friday   62      MATA DA PRAIA            0             0   \n",
       "3             Friday    8  PONTAL DE CAMBURI            0             0   \n",
       "4             Friday   56    JARDIM DA PENHA            0             1   \n",
       "\n",
       "   diabetes  alcoholism  handicap  sms_received show_up  \n",
       "0         0           0         0             0     yes  \n",
       "1         0           0         0             0     yes  \n",
       "2         0           0         0             0     yes  \n",
       "3         0           0         0             0     yes  \n",
       "4         1           0         0             0     yes  "
      ]
     },
     "execution_count": 38,
     "metadata": {},
     "output_type": "execute_result"
    }
   ],
   "source": [
    "#checking\n",
    "df.head()"
   ]
  },
  {
   "cell_type": "code",
   "execution_count": 39,
   "metadata": {},
   "outputs": [
    {
     "name": "stdout",
     "output_type": "stream",
     "text": [
      "<class 'pandas.core.frame.DataFrame'>\n",
      "Int64Index: 110519 entries, 0 to 110526\n",
      "Data columns (total 19 columns):\n",
      " #   Column                Non-Null Count   Dtype \n",
      "---  ------                --------------   ----- \n",
      " 0   patient_id            110519 non-null  int64 \n",
      " 1   appointment_id        110519 non-null  int64 \n",
      " 2   gender                110519 non-null  object\n",
      " 3   year_of_sechedul      110519 non-null  int64 \n",
      " 4   month_of_sechedul     110519 non-null  object\n",
      " 5   day_of_sechedul       110519 non-null  object\n",
      " 6   time_of_sechedul      110519 non-null  object\n",
      " 7   year_of_appointment   110519 non-null  int64 \n",
      " 8   month_of_appointment  110519 non-null  object\n",
      " 9   day_of_appointment    110519 non-null  object\n",
      " 10  age                   110519 non-null  int64 \n",
      " 11  neighborhood          110519 non-null  object\n",
      " 12  scholarship           110519 non-null  int64 \n",
      " 13  hypertension          110519 non-null  int64 \n",
      " 14  diabetes              110519 non-null  int64 \n",
      " 15  alcoholism            110519 non-null  int64 \n",
      " 16  handicap              110519 non-null  int64 \n",
      " 17  sms_received          110519 non-null  int64 \n",
      " 18  show_up               110519 non-null  object\n",
      "dtypes: int64(11), object(8)\n",
      "memory usage: 16.9+ MB\n"
     ]
    }
   ],
   "source": [
    "df.info()"
   ]
  },
  {
   "cell_type": "code",
   "execution_count": 40,
   "metadata": {},
   "outputs": [
    {
     "data": {
      "text/plain": [
       "(110519, 19)"
      ]
     },
     "execution_count": 40,
     "metadata": {},
     "output_type": "execute_result"
    }
   ],
   "source": [
    "df.shape"
   ]
  },
  {
   "cell_type": "code",
   "execution_count": 41,
   "metadata": {},
   "outputs": [
    {
     "data": {
      "text/html": [
       "<div>\n",
       "<style scoped>\n",
       "    .dataframe tbody tr th:only-of-type {\n",
       "        vertical-align: middle;\n",
       "    }\n",
       "\n",
       "    .dataframe tbody tr th {\n",
       "        vertical-align: top;\n",
       "    }\n",
       "\n",
       "    .dataframe thead th {\n",
       "        text-align: right;\n",
       "    }\n",
       "</style>\n",
       "<table border=\"1\" class=\"dataframe\">\n",
       "  <thead>\n",
       "    <tr style=\"text-align: right;\">\n",
       "      <th></th>\n",
       "      <th>patient_id</th>\n",
       "      <th>appointment_id</th>\n",
       "      <th>year_of_sechedul</th>\n",
       "      <th>year_of_appointment</th>\n",
       "      <th>age</th>\n",
       "      <th>scholarship</th>\n",
       "      <th>hypertension</th>\n",
       "      <th>diabetes</th>\n",
       "      <th>alcoholism</th>\n",
       "      <th>handicap</th>\n",
       "      <th>sms_received</th>\n",
       "    </tr>\n",
       "  </thead>\n",
       "  <tbody>\n",
       "    <tr>\n",
       "      <th>count</th>\n",
       "      <td>1.105190e+05</td>\n",
       "      <td>1.105190e+05</td>\n",
       "      <td>110519.000000</td>\n",
       "      <td>110519.0</td>\n",
       "      <td>110519.000000</td>\n",
       "      <td>110519.000000</td>\n",
       "      <td>110519.000000</td>\n",
       "      <td>110519.000000</td>\n",
       "      <td>110519.000000</td>\n",
       "      <td>110519.000000</td>\n",
       "      <td>110519.000000</td>\n",
       "    </tr>\n",
       "    <tr>\n",
       "      <th>mean</th>\n",
       "      <td>1.474860e+14</td>\n",
       "      <td>5.675303e+06</td>\n",
       "      <td>2015.999439</td>\n",
       "      <td>2016.0</td>\n",
       "      <td>37.084519</td>\n",
       "      <td>0.098273</td>\n",
       "      <td>0.197251</td>\n",
       "      <td>0.071870</td>\n",
       "      <td>0.030402</td>\n",
       "      <td>0.020241</td>\n",
       "      <td>0.321040</td>\n",
       "    </tr>\n",
       "    <tr>\n",
       "      <th>std</th>\n",
       "      <td>2.560826e+14</td>\n",
       "      <td>7.129600e+04</td>\n",
       "      <td>0.023679</td>\n",
       "      <td>0.0</td>\n",
       "      <td>23.103165</td>\n",
       "      <td>0.297684</td>\n",
       "      <td>0.397925</td>\n",
       "      <td>0.258274</td>\n",
       "      <td>0.171692</td>\n",
       "      <td>0.140824</td>\n",
       "      <td>0.466878</td>\n",
       "    </tr>\n",
       "    <tr>\n",
       "      <th>min</th>\n",
       "      <td>3.921700e+04</td>\n",
       "      <td>5.030230e+06</td>\n",
       "      <td>2015.000000</td>\n",
       "      <td>2016.0</td>\n",
       "      <td>0.000000</td>\n",
       "      <td>0.000000</td>\n",
       "      <td>0.000000</td>\n",
       "      <td>0.000000</td>\n",
       "      <td>0.000000</td>\n",
       "      <td>0.000000</td>\n",
       "      <td>0.000000</td>\n",
       "    </tr>\n",
       "    <tr>\n",
       "      <th>25%</th>\n",
       "      <td>4.172457e+12</td>\n",
       "      <td>5.640284e+06</td>\n",
       "      <td>2016.000000</td>\n",
       "      <td>2016.0</td>\n",
       "      <td>18.000000</td>\n",
       "      <td>0.000000</td>\n",
       "      <td>0.000000</td>\n",
       "      <td>0.000000</td>\n",
       "      <td>0.000000</td>\n",
       "      <td>0.000000</td>\n",
       "      <td>0.000000</td>\n",
       "    </tr>\n",
       "    <tr>\n",
       "      <th>50%</th>\n",
       "      <td>3.172598e+13</td>\n",
       "      <td>5.680569e+06</td>\n",
       "      <td>2016.000000</td>\n",
       "      <td>2016.0</td>\n",
       "      <td>37.000000</td>\n",
       "      <td>0.000000</td>\n",
       "      <td>0.000000</td>\n",
       "      <td>0.000000</td>\n",
       "      <td>0.000000</td>\n",
       "      <td>0.000000</td>\n",
       "      <td>0.000000</td>\n",
       "    </tr>\n",
       "    <tr>\n",
       "      <th>75%</th>\n",
       "      <td>9.438963e+13</td>\n",
       "      <td>5.725522e+06</td>\n",
       "      <td>2016.000000</td>\n",
       "      <td>2016.0</td>\n",
       "      <td>55.000000</td>\n",
       "      <td>0.000000</td>\n",
       "      <td>0.000000</td>\n",
       "      <td>0.000000</td>\n",
       "      <td>0.000000</td>\n",
       "      <td>0.000000</td>\n",
       "      <td>1.000000</td>\n",
       "    </tr>\n",
       "    <tr>\n",
       "      <th>max</th>\n",
       "      <td>9.999816e+14</td>\n",
       "      <td>5.790484e+06</td>\n",
       "      <td>2016.000000</td>\n",
       "      <td>2016.0</td>\n",
       "      <td>100.000000</td>\n",
       "      <td>1.000000</td>\n",
       "      <td>1.000000</td>\n",
       "      <td>1.000000</td>\n",
       "      <td>1.000000</td>\n",
       "      <td>1.000000</td>\n",
       "      <td>1.000000</td>\n",
       "    </tr>\n",
       "  </tbody>\n",
       "</table>\n",
       "</div>"
      ],
      "text/plain": [
       "         patient_id  appointment_id  year_of_sechedul  year_of_appointment  \\\n",
       "count  1.105190e+05    1.105190e+05     110519.000000             110519.0   \n",
       "mean   1.474860e+14    5.675303e+06       2015.999439               2016.0   \n",
       "std    2.560826e+14    7.129600e+04          0.023679                  0.0   \n",
       "min    3.921700e+04    5.030230e+06       2015.000000               2016.0   \n",
       "25%    4.172457e+12    5.640284e+06       2016.000000               2016.0   \n",
       "50%    3.172598e+13    5.680569e+06       2016.000000               2016.0   \n",
       "75%    9.438963e+13    5.725522e+06       2016.000000               2016.0   \n",
       "max    9.999816e+14    5.790484e+06       2016.000000               2016.0   \n",
       "\n",
       "                 age    scholarship   hypertension       diabetes  \\\n",
       "count  110519.000000  110519.000000  110519.000000  110519.000000   \n",
       "mean       37.084519       0.098273       0.197251       0.071870   \n",
       "std        23.103165       0.297684       0.397925       0.258274   \n",
       "min         0.000000       0.000000       0.000000       0.000000   \n",
       "25%        18.000000       0.000000       0.000000       0.000000   \n",
       "50%        37.000000       0.000000       0.000000       0.000000   \n",
       "75%        55.000000       0.000000       0.000000       0.000000   \n",
       "max       100.000000       1.000000       1.000000       1.000000   \n",
       "\n",
       "          alcoholism       handicap   sms_received  \n",
       "count  110519.000000  110519.000000  110519.000000  \n",
       "mean        0.030402       0.020241       0.321040  \n",
       "std         0.171692       0.140824       0.466878  \n",
       "min         0.000000       0.000000       0.000000  \n",
       "25%         0.000000       0.000000       0.000000  \n",
       "50%         0.000000       0.000000       0.000000  \n",
       "75%         0.000000       0.000000       1.000000  \n",
       "max         1.000000       1.000000       1.000000  "
      ]
     },
     "execution_count": 41,
     "metadata": {},
     "output_type": "execute_result"
    }
   ],
   "source": [
    "df.describe()"
   ]
  },
  {
   "cell_type": "markdown",
   "metadata": {},
   "source": [
    "## 2.4 Save Cleaned Data set"
   ]
  },
  {
   "cell_type": "code",
   "execution_count": 42,
   "metadata": {},
   "outputs": [],
   "source": [
    "df.to_csv('noshow_cleaned.csv', index=False)"
   ]
  },
  {
   "cell_type": "markdown",
   "metadata": {},
   "source": [
    "# 3. Exploring The Cleaning Data \n",
    "After the data is clean , now I will start to exploring the data, find the relationships, and answer the questions."
   ]
  },
  {
   "cell_type": "code",
   "execution_count": 43,
   "metadata": {},
   "outputs": [
    {
     "data": {
      "text/html": [
       "<div>\n",
       "<style scoped>\n",
       "    .dataframe tbody tr th:only-of-type {\n",
       "        vertical-align: middle;\n",
       "    }\n",
       "\n",
       "    .dataframe tbody tr th {\n",
       "        vertical-align: top;\n",
       "    }\n",
       "\n",
       "    .dataframe thead th {\n",
       "        text-align: right;\n",
       "    }\n",
       "</style>\n",
       "<table border=\"1\" class=\"dataframe\">\n",
       "  <thead>\n",
       "    <tr style=\"text-align: right;\">\n",
       "      <th></th>\n",
       "      <th>patient_id</th>\n",
       "      <th>appointment_id</th>\n",
       "      <th>gender</th>\n",
       "      <th>year_of_sechedul</th>\n",
       "      <th>month_of_sechedul</th>\n",
       "      <th>day_of_sechedul</th>\n",
       "      <th>time_of_sechedul</th>\n",
       "      <th>year_of_appointment</th>\n",
       "      <th>month_of_appointment</th>\n",
       "      <th>day_of_appointment</th>\n",
       "      <th>age</th>\n",
       "      <th>neighborhood</th>\n",
       "      <th>scholarship</th>\n",
       "      <th>hypertension</th>\n",
       "      <th>diabetes</th>\n",
       "      <th>alcoholism</th>\n",
       "      <th>handicap</th>\n",
       "      <th>sms_received</th>\n",
       "      <th>show_up</th>\n",
       "    </tr>\n",
       "  </thead>\n",
       "  <tbody>\n",
       "  </tbody>\n",
       "</table>\n",
       "</div>"
      ],
      "text/plain": [
       "Empty DataFrame\n",
       "Columns: [patient_id, appointment_id, gender, year_of_sechedul, month_of_sechedul, day_of_sechedul, time_of_sechedul, year_of_appointment, month_of_appointment, day_of_appointment, age, neighborhood, scholarship, hypertension, diabetes, alcoholism, handicap, sms_received, show_up]\n",
       "Index: []"
      ]
     },
     "execution_count": 43,
     "metadata": {},
     "output_type": "execute_result"
    }
   ],
   "source": [
    "# make a copy of the data set \n",
    "df1 = df.copy()\n",
    "df1.head(0)"
   ]
  },
  {
   "cell_type": "code",
   "execution_count": null,
   "metadata": {
    "scrolled": true
   },
   "outputs": [],
   "source": [
    "\n"
   ]
  },
  {
   "cell_type": "markdown",
   "metadata": {},
   "source": [
    "## 3.1 Create a New DataFrame for show_up and NOT show up\n",
    "show up = num_show\n",
    "Not show up = num_not_show"
   ]
  },
  {
   "cell_type": "code",
   "execution_count": 44,
   "metadata": {},
   "outputs": [
    {
     "data": {
      "text/plain": [
       "yes    88203\n",
       "no     22316\n",
       "Name: show_up, dtype: int64"
      ]
     },
     "execution_count": 44,
     "metadata": {},
     "output_type": "execute_result"
    }
   ],
   "source": [
    "df1['show_up'].value_counts()"
   ]
  },
  {
   "cell_type": "code",
   "execution_count": 45,
   "metadata": {},
   "outputs": [],
   "source": [
    "# change it to int to be easy to deal with\n",
    "df1['show_up'].replace({'yes' : '1' , 'no' : '0'} , inplace=True)\n",
    "df1['show_up'] = df1['show_up'].astype(int)"
   ]
  },
  {
   "cell_type": "code",
   "execution_count": 46,
   "metadata": {},
   "outputs": [],
   "source": [
    "# create a mask for each show up values\n",
    "num_show = df1[df1['show_up'] == 1]\n",
    "num_not_show = df1[df1['show_up'] == 0]"
   ]
  },
  {
   "cell_type": "code",
   "execution_count": 47,
   "metadata": {},
   "outputs": [
    {
     "data": {
      "text/html": [
       "<div>\n",
       "<style scoped>\n",
       "    .dataframe tbody tr th:only-of-type {\n",
       "        vertical-align: middle;\n",
       "    }\n",
       "\n",
       "    .dataframe tbody tr th {\n",
       "        vertical-align: top;\n",
       "    }\n",
       "\n",
       "    .dataframe thead th {\n",
       "        text-align: right;\n",
       "    }\n",
       "</style>\n",
       "<table border=\"1\" class=\"dataframe\">\n",
       "  <thead>\n",
       "    <tr style=\"text-align: right;\">\n",
       "      <th></th>\n",
       "      <th>patient_id</th>\n",
       "      <th>appointment_id</th>\n",
       "      <th>year_of_sechedul</th>\n",
       "      <th>year_of_appointment</th>\n",
       "      <th>age</th>\n",
       "      <th>scholarship</th>\n",
       "      <th>hypertension</th>\n",
       "      <th>diabetes</th>\n",
       "      <th>alcoholism</th>\n",
       "      <th>handicap</th>\n",
       "      <th>sms_received</th>\n",
       "      <th>show_up</th>\n",
       "    </tr>\n",
       "  </thead>\n",
       "  <tbody>\n",
       "    <tr>\n",
       "      <th>count</th>\n",
       "      <td>8.820300e+04</td>\n",
       "      <td>8.820300e+04</td>\n",
       "      <td>88203.000000</td>\n",
       "      <td>88203.0</td>\n",
       "      <td>88203.000000</td>\n",
       "      <td>88203.000000</td>\n",
       "      <td>88203.000000</td>\n",
       "      <td>88203.000000</td>\n",
       "      <td>88203.000000</td>\n",
       "      <td>88203.000000</td>\n",
       "      <td>88203.000000</td>\n",
       "      <td>88203.0</td>\n",
       "    </tr>\n",
       "    <tr>\n",
       "      <th>mean</th>\n",
       "      <td>1.476677e+14</td>\n",
       "      <td>5.681134e+06</td>\n",
       "      <td>2015.999512</td>\n",
       "      <td>2016.0</td>\n",
       "      <td>37.787297</td>\n",
       "      <td>0.093908</td>\n",
       "      <td>0.204392</td>\n",
       "      <td>0.073841</td>\n",
       "      <td>0.030418</td>\n",
       "      <td>0.020782</td>\n",
       "      <td>0.291339</td>\n",
       "      <td>1.0</td>\n",
       "    </tr>\n",
       "    <tr>\n",
       "      <th>std</th>\n",
       "      <td>2.563558e+14</td>\n",
       "      <td>6.931259e+04</td>\n",
       "      <td>0.022074</td>\n",
       "      <td>0.0</td>\n",
       "      <td>23.334275</td>\n",
       "      <td>0.291703</td>\n",
       "      <td>0.403259</td>\n",
       "      <td>0.261513</td>\n",
       "      <td>0.171737</td>\n",
       "      <td>0.142653</td>\n",
       "      <td>0.454382</td>\n",
       "      <td>0.0</td>\n",
       "    </tr>\n",
       "    <tr>\n",
       "      <th>min</th>\n",
       "      <td>3.921700e+04</td>\n",
       "      <td>5.030230e+06</td>\n",
       "      <td>2015.000000</td>\n",
       "      <td>2016.0</td>\n",
       "      <td>0.000000</td>\n",
       "      <td>0.000000</td>\n",
       "      <td>0.000000</td>\n",
       "      <td>0.000000</td>\n",
       "      <td>0.000000</td>\n",
       "      <td>0.000000</td>\n",
       "      <td>0.000000</td>\n",
       "      <td>1.0</td>\n",
       "    </tr>\n",
       "    <tr>\n",
       "      <th>25%</th>\n",
       "      <td>4.168386e+12</td>\n",
       "      <td>5.646216e+06</td>\n",
       "      <td>2016.000000</td>\n",
       "      <td>2016.0</td>\n",
       "      <td>18.000000</td>\n",
       "      <td>0.000000</td>\n",
       "      <td>0.000000</td>\n",
       "      <td>0.000000</td>\n",
       "      <td>0.000000</td>\n",
       "      <td>0.000000</td>\n",
       "      <td>0.000000</td>\n",
       "      <td>1.0</td>\n",
       "    </tr>\n",
       "    <tr>\n",
       "      <th>50%</th>\n",
       "      <td>3.175832e+13</td>\n",
       "      <td>5.685681e+06</td>\n",
       "      <td>2016.000000</td>\n",
       "      <td>2016.0</td>\n",
       "      <td>38.000000</td>\n",
       "      <td>0.000000</td>\n",
       "      <td>0.000000</td>\n",
       "      <td>0.000000</td>\n",
       "      <td>0.000000</td>\n",
       "      <td>0.000000</td>\n",
       "      <td>0.000000</td>\n",
       "      <td>1.0</td>\n",
       "    </tr>\n",
       "    <tr>\n",
       "      <th>75%</th>\n",
       "      <td>9.433654e+13</td>\n",
       "      <td>5.731076e+06</td>\n",
       "      <td>2016.000000</td>\n",
       "      <td>2016.0</td>\n",
       "      <td>56.000000</td>\n",
       "      <td>0.000000</td>\n",
       "      <td>0.000000</td>\n",
       "      <td>0.000000</td>\n",
       "      <td>0.000000</td>\n",
       "      <td>0.000000</td>\n",
       "      <td>1.000000</td>\n",
       "      <td>1.0</td>\n",
       "    </tr>\n",
       "    <tr>\n",
       "      <th>max</th>\n",
       "      <td>9.999816e+14</td>\n",
       "      <td>5.790484e+06</td>\n",
       "      <td>2016.000000</td>\n",
       "      <td>2016.0</td>\n",
       "      <td>100.000000</td>\n",
       "      <td>1.000000</td>\n",
       "      <td>1.000000</td>\n",
       "      <td>1.000000</td>\n",
       "      <td>1.000000</td>\n",
       "      <td>1.000000</td>\n",
       "      <td>1.000000</td>\n",
       "      <td>1.0</td>\n",
       "    </tr>\n",
       "  </tbody>\n",
       "</table>\n",
       "</div>"
      ],
      "text/plain": [
       "         patient_id  appointment_id  year_of_sechedul  year_of_appointment  \\\n",
       "count  8.820300e+04    8.820300e+04      88203.000000              88203.0   \n",
       "mean   1.476677e+14    5.681134e+06       2015.999512               2016.0   \n",
       "std    2.563558e+14    6.931259e+04          0.022074                  0.0   \n",
       "min    3.921700e+04    5.030230e+06       2015.000000               2016.0   \n",
       "25%    4.168386e+12    5.646216e+06       2016.000000               2016.0   \n",
       "50%    3.175832e+13    5.685681e+06       2016.000000               2016.0   \n",
       "75%    9.433654e+13    5.731076e+06       2016.000000               2016.0   \n",
       "max    9.999816e+14    5.790484e+06       2016.000000               2016.0   \n",
       "\n",
       "                age   scholarship  hypertension      diabetes    alcoholism  \\\n",
       "count  88203.000000  88203.000000  88203.000000  88203.000000  88203.000000   \n",
       "mean      37.787297      0.093908      0.204392      0.073841      0.030418   \n",
       "std       23.334275      0.291703      0.403259      0.261513      0.171737   \n",
       "min        0.000000      0.000000      0.000000      0.000000      0.000000   \n",
       "25%       18.000000      0.000000      0.000000      0.000000      0.000000   \n",
       "50%       38.000000      0.000000      0.000000      0.000000      0.000000   \n",
       "75%       56.000000      0.000000      0.000000      0.000000      0.000000   \n",
       "max      100.000000      1.000000      1.000000      1.000000      1.000000   \n",
       "\n",
       "           handicap  sms_received  show_up  \n",
       "count  88203.000000  88203.000000  88203.0  \n",
       "mean       0.020782      0.291339      1.0  \n",
       "std        0.142653      0.454382      0.0  \n",
       "min        0.000000      0.000000      1.0  \n",
       "25%        0.000000      0.000000      1.0  \n",
       "50%        0.000000      0.000000      1.0  \n",
       "75%        0.000000      1.000000      1.0  \n",
       "max        1.000000      1.000000      1.0  "
      ]
     },
     "execution_count": 47,
     "metadata": {},
     "output_type": "execute_result"
    }
   ],
   "source": [
    "num_show.describe() "
   ]
  },
  {
   "cell_type": "code",
   "execution_count": null,
   "metadata": {},
   "outputs": [],
   "source": []
  },
  {
   "cell_type": "code",
   "execution_count": 48,
   "metadata": {},
   "outputs": [
    {
     "data": {
      "text/html": [
       "<div>\n",
       "<style scoped>\n",
       "    .dataframe tbody tr th:only-of-type {\n",
       "        vertical-align: middle;\n",
       "    }\n",
       "\n",
       "    .dataframe tbody tr th {\n",
       "        vertical-align: top;\n",
       "    }\n",
       "\n",
       "    .dataframe thead th {\n",
       "        text-align: right;\n",
       "    }\n",
       "</style>\n",
       "<table border=\"1\" class=\"dataframe\">\n",
       "  <thead>\n",
       "    <tr style=\"text-align: right;\">\n",
       "      <th></th>\n",
       "      <th>patient_id</th>\n",
       "      <th>appointment_id</th>\n",
       "      <th>year_of_sechedul</th>\n",
       "      <th>year_of_appointment</th>\n",
       "      <th>age</th>\n",
       "      <th>scholarship</th>\n",
       "      <th>hypertension</th>\n",
       "      <th>diabetes</th>\n",
       "      <th>alcoholism</th>\n",
       "      <th>handicap</th>\n",
       "      <th>sms_received</th>\n",
       "      <th>show_up</th>\n",
       "    </tr>\n",
       "  </thead>\n",
       "  <tbody>\n",
       "    <tr>\n",
       "      <th>count</th>\n",
       "      <td>2.231600e+04</td>\n",
       "      <td>2.231600e+04</td>\n",
       "      <td>22316.000000</td>\n",
       "      <td>22316.0</td>\n",
       "      <td>22316.000000</td>\n",
       "      <td>22316.000000</td>\n",
       "      <td>22316.000000</td>\n",
       "      <td>22316.00000</td>\n",
       "      <td>22316.000000</td>\n",
       "      <td>22316.000000</td>\n",
       "      <td>22316.000000</td>\n",
       "      <td>22316.0</td>\n",
       "    </tr>\n",
       "    <tr>\n",
       "      <th>mean</th>\n",
       "      <td>1.467677e+14</td>\n",
       "      <td>5.652258e+06</td>\n",
       "      <td>2015.999149</td>\n",
       "      <td>2016.0</td>\n",
       "      <td>34.306820</td>\n",
       "      <td>0.115522</td>\n",
       "      <td>0.169027</td>\n",
       "      <td>0.06408</td>\n",
       "      <td>0.030337</td>\n",
       "      <td>0.018104</td>\n",
       "      <td>0.438430</td>\n",
       "      <td>0.0</td>\n",
       "    </tr>\n",
       "    <tr>\n",
       "      <th>std</th>\n",
       "      <td>2.550042e+14</td>\n",
       "      <td>7.429805e+04</td>\n",
       "      <td>0.029167</td>\n",
       "      <td>0.0</td>\n",
       "      <td>21.947486</td>\n",
       "      <td>0.319659</td>\n",
       "      <td>0.374784</td>\n",
       "      <td>0.24490</td>\n",
       "      <td>0.171517</td>\n",
       "      <td>0.133329</td>\n",
       "      <td>0.496206</td>\n",
       "      <td>0.0</td>\n",
       "    </tr>\n",
       "    <tr>\n",
       "      <th>min</th>\n",
       "      <td>5.628261e+06</td>\n",
       "      <td>5.122866e+06</td>\n",
       "      <td>2015.000000</td>\n",
       "      <td>2016.0</td>\n",
       "      <td>0.000000</td>\n",
       "      <td>0.000000</td>\n",
       "      <td>0.000000</td>\n",
       "      <td>0.00000</td>\n",
       "      <td>0.000000</td>\n",
       "      <td>0.000000</td>\n",
       "      <td>0.000000</td>\n",
       "      <td>0.0</td>\n",
       "    </tr>\n",
       "    <tr>\n",
       "      <th>25%</th>\n",
       "      <td>4.176779e+12</td>\n",
       "      <td>5.614196e+06</td>\n",
       "      <td>2016.000000</td>\n",
       "      <td>2016.0</td>\n",
       "      <td>16.000000</td>\n",
       "      <td>0.000000</td>\n",
       "      <td>0.000000</td>\n",
       "      <td>0.00000</td>\n",
       "      <td>0.000000</td>\n",
       "      <td>0.000000</td>\n",
       "      <td>0.000000</td>\n",
       "      <td>0.0</td>\n",
       "    </tr>\n",
       "    <tr>\n",
       "      <th>50%</th>\n",
       "      <td>3.154340e+13</td>\n",
       "      <td>5.657914e+06</td>\n",
       "      <td>2016.000000</td>\n",
       "      <td>2016.0</td>\n",
       "      <td>33.000000</td>\n",
       "      <td>0.000000</td>\n",
       "      <td>0.000000</td>\n",
       "      <td>0.00000</td>\n",
       "      <td>0.000000</td>\n",
       "      <td>0.000000</td>\n",
       "      <td>0.000000</td>\n",
       "      <td>0.0</td>\n",
       "    </tr>\n",
       "    <tr>\n",
       "      <th>75%</th>\n",
       "      <td>9.454369e+13</td>\n",
       "      <td>5.703182e+06</td>\n",
       "      <td>2016.000000</td>\n",
       "      <td>2016.0</td>\n",
       "      <td>51.000000</td>\n",
       "      <td>0.000000</td>\n",
       "      <td>0.000000</td>\n",
       "      <td>0.00000</td>\n",
       "      <td>0.000000</td>\n",
       "      <td>0.000000</td>\n",
       "      <td>1.000000</td>\n",
       "      <td>0.0</td>\n",
       "    </tr>\n",
       "    <tr>\n",
       "      <th>max</th>\n",
       "      <td>9.996585e+14</td>\n",
       "      <td>5.789986e+06</td>\n",
       "      <td>2016.000000</td>\n",
       "      <td>2016.0</td>\n",
       "      <td>98.000000</td>\n",
       "      <td>1.000000</td>\n",
       "      <td>1.000000</td>\n",
       "      <td>1.00000</td>\n",
       "      <td>1.000000</td>\n",
       "      <td>1.000000</td>\n",
       "      <td>1.000000</td>\n",
       "      <td>0.0</td>\n",
       "    </tr>\n",
       "  </tbody>\n",
       "</table>\n",
       "</div>"
      ],
      "text/plain": [
       "         patient_id  appointment_id  year_of_sechedul  year_of_appointment  \\\n",
       "count  2.231600e+04    2.231600e+04      22316.000000              22316.0   \n",
       "mean   1.467677e+14    5.652258e+06       2015.999149               2016.0   \n",
       "std    2.550042e+14    7.429805e+04          0.029167                  0.0   \n",
       "min    5.628261e+06    5.122866e+06       2015.000000               2016.0   \n",
       "25%    4.176779e+12    5.614196e+06       2016.000000               2016.0   \n",
       "50%    3.154340e+13    5.657914e+06       2016.000000               2016.0   \n",
       "75%    9.454369e+13    5.703182e+06       2016.000000               2016.0   \n",
       "max    9.996585e+14    5.789986e+06       2016.000000               2016.0   \n",
       "\n",
       "                age   scholarship  hypertension     diabetes    alcoholism  \\\n",
       "count  22316.000000  22316.000000  22316.000000  22316.00000  22316.000000   \n",
       "mean      34.306820      0.115522      0.169027      0.06408      0.030337   \n",
       "std       21.947486      0.319659      0.374784      0.24490      0.171517   \n",
       "min        0.000000      0.000000      0.000000      0.00000      0.000000   \n",
       "25%       16.000000      0.000000      0.000000      0.00000      0.000000   \n",
       "50%       33.000000      0.000000      0.000000      0.00000      0.000000   \n",
       "75%       51.000000      0.000000      0.000000      0.00000      0.000000   \n",
       "max       98.000000      1.000000      1.000000      1.00000      1.000000   \n",
       "\n",
       "           handicap  sms_received  show_up  \n",
       "count  22316.000000  22316.000000  22316.0  \n",
       "mean       0.018104      0.438430      0.0  \n",
       "std        0.133329      0.496206      0.0  \n",
       "min        0.000000      0.000000      0.0  \n",
       "25%        0.000000      0.000000      0.0  \n",
       "50%        0.000000      0.000000      0.0  \n",
       "75%        0.000000      1.000000      0.0  \n",
       "max        1.000000      1.000000      0.0  "
      ]
     },
     "execution_count": 48,
     "metadata": {},
     "output_type": "execute_result"
    }
   ],
   "source": [
    "num_not_show.describe()"
   ]
  },
  {
   "cell_type": "markdown",
   "metadata": {},
   "source": [
    "### 3.1.1 Show up or NOT\n",
    "Q1 - What is the percentage of patients who did not show up in their scheduled appointment to the total patients ?"
   ]
  },
  {
   "cell_type": "code",
   "execution_count": 49,
   "metadata": {},
   "outputs": [
    {
     "data": {
      "text/plain": [
       "1    88203\n",
       "0    22316\n",
       "Name: show_up, dtype: int64"
      ]
     },
     "execution_count": 49,
     "metadata": {},
     "output_type": "execute_result"
    }
   ],
   "source": [
    "show_up_values = df1['show_up'].value_counts()\n",
    "show_up_values"
   ]
  },
  {
   "cell_type": "code",
   "execution_count": 50,
   "metadata": {},
   "outputs": [
    {
     "data": {
      "image/png": "[encoded data removed]",
      "text/plain": [
       "<Figure size 432x432 with 1 Axes>"
      ]
     },
     "metadata": {},
     "output_type": "display_data"
    }
   ],
   "source": [
    "pie_show = df1['show_up'].value_counts().plot(kind='pie' , figsize = (6,6) ,labels=['Show up ',' Did NOT show up'], autopct='%10.1f%%' ,colors = ['green', 'red'], wedgeprops={'alpha':0.5});\n",
    "plt.title('% of show up') ; \n",
    "plt.legend();\n"
   ]
  },
  {
   "cell_type": "markdown",
   "metadata": {},
   "source": [
    "### 3.1.2 Gender\n",
    "Q2 - Which of female or male is more to not showing on their schedule appointment ?"
   ]
  },
  {
   "cell_type": "code",
   "execution_count": 51,
   "metadata": {},
   "outputs": [
    {
     "data": {
      "text/plain": [
       "F    71832\n",
       "M    38687\n",
       "Name: gender, dtype: int64"
      ]
     },
     "execution_count": 51,
     "metadata": {},
     "output_type": "execute_result"
    }
   ],
   "source": [
    "# total number of Female and Male\n",
    "gender_values = df1['gender'].value_counts()\n",
    "gender_values"
   ]
  },
  {
   "cell_type": "code",
   "execution_count": 52,
   "metadata": {},
   "outputs": [
    {
     "data": {
      "image/png": "[encoded data removed]",
      "text/plain": [
       "<Figure size 432x432 with 1 Axes>"
      ]
     },
     "metadata": {},
     "output_type": "display_data"
    }
   ],
   "source": [
    "pie_gender = df1['gender'].value_counts().plot(kind='pie' , figsize = (6,6) ,labels=['Female up ',' Male'], autopct='%10.1f%%' ,colors = ['red', 'green'], wedgeprops={'alpha':0.5});\n",
    "plt.title('% of show up') ; \n",
    "plt.legend();"
   ]
  },
  {
   "cell_type": "code",
   "execution_count": 53,
   "metadata": {},
   "outputs": [
    {
     "data": {
      "text/plain": [
       "F    14591\n",
       "M     7725\n",
       "Name: gender, dtype: int64"
      ]
     },
     "execution_count": 53,
     "metadata": {},
     "output_type": "execute_result"
    }
   ],
   "source": [
    "# number of Female and Male who NOT show up\n",
    "gender_not_show = num_not_show['gender'].value_counts()\n",
    "gender_not_show"
   ]
  },
  {
   "cell_type": "code",
   "execution_count": 54,
   "metadata": {},
   "outputs": [],
   "source": [
    "g_total = df1.groupby(['gender', 'show_up'])['show_up'].count()\n",
    "g_not_show = num_not_show.groupby(['gender', 'show_up'])['show_up'].count()\n",
    "g_show = num_show.groupby(['gender', 'show_up'])['show_up'].count()"
   ]
  },
  {
   "cell_type": "code",
   "execution_count": 55,
   "metadata": {
    "scrolled": false
   },
   "outputs": [
    {
     "data": {
      "image/png": "[encoded data removed]",
      "text/plain": [
       "<Figure size 576x432 with 1 Axes>"
      ]
     },
     "metadata": {
      "needs_background": "light"
     },
     "output_type": "display_data"
    }
   ],
   "source": [
    "show_up = g_total.plot.bar(color=['red' ,'green' ] , grid = True,label=('NOT show up ')  , figsize = (8,6), alpha = 0.5 , rot=0)\n",
    "plt.title(\"show up vs gender \");\n",
    "plt.xlabel(\"Gender \") ;\n",
    "plt.ylabel(\"Number people\") ;\n",
    "plt.legend() ;\n",
    "positions = (0, 1 , 2, 3);\n",
    "labels = (\"Female NOt show\", \"Female show up \" , \"Male NOt show\" , \"Male show up\");\n",
    "plt.xticks(positions, labels) ;\n"
   ]
  },
  {
   "cell_type": "code",
   "execution_count": 56,
   "metadata": {},
   "outputs": [
    {
     "name": "stdout",
     "output_type": "stream",
     "text": [
      "The % of Female who did not show up is  20.31267401715113 % and male is  19.967947889471915 % that means gender does not play a role in missing the appointment\n"
     ]
    }
   ],
   "source": [
    "per_f_not_show = gender_not_show['F'] / len(df1[df1['gender'] == 'F']) * 100\n",
    "per_m_not_show = gender_not_show['M'] / len(df1[df1['gender'] == 'M']) * 100\n",
    "print('The % of Female who did not show up is  {} % and male is  {} % that means gender does not play a role in missing the appointment'.format(per_f_not_show, per_m_not_show))"
   ]
  },
  {
   "cell_type": "markdown",
   "metadata": {},
   "source": [
    "### 3.1.3 Age\n",
    "Q3 - Is the age of patients play a role in not show in the scheduled appointment?"
   ]
  },
  {
   "cell_type": "code",
   "execution_count": 57,
   "metadata": {},
   "outputs": [
    {
     "data": {
      "image/png": "[encoded data removed]",
      "text/plain": [
       "<Figure size 720x432 with 1 Axes>"
      ]
     },
     "metadata": {
      "needs_background": "light"
     },
     "output_type": "display_data"
    }
   ],
   "source": [
    "df1['age'].hist(color='green' ,  alpha = 0.5, figsize=(10,6), label = 'Patients ages');\n",
    "num_not_show['age'].hist(color='red' ,  alpha = 0.8 , label = 'Patients ages who NOT show up');\n",
    "plt.title('Age vs not show up') ; \n",
    "plt.xlabel(\"Age\") ;\n",
    "plt.ylabel(\"Number of show up or not show\") ;\n",
    "plt.legend();"
   ]
  },
  {
   "cell_type": "code",
   "execution_count": 58,
   "metadata": {},
   "outputs": [],
   "source": [
    "age_show = num_show.groupby(['age'])['show_up'].count()\n",
    "age_not_show = num_not_show.groupby(['age'])['show_up'].count()"
   ]
  },
  {
   "cell_type": "code",
   "execution_count": 59,
   "metadata": {},
   "outputs": [
    {
     "data": {
      "image/png": "[encoded data removed]",
      "text/plain": [
       "<Figure size 1296x432 with 1 Axes>"
      ]
     },
     "metadata": {
      "needs_background": "light"
     },
     "output_type": "display_data"
    }
   ],
   "source": [
    "#This chart is to show more details about the relationship between age and not show\n",
    "age_bar = age_show.plot(kind='bar' , grid = True ,figsize = (18,6) , color = 'green' , label='patient show up' , alpha= 0.5 )\n",
    "age_bar = age_not_show.plot(kind='bar' ,grid = True, color = 'red', label='patient NOT show up' , alpha= 0.7 )\n",
    "\n",
    "plt.title('Age vs show up') ; \n",
    "plt.xlabel(\"Age\") ;\n",
    "plt.ylabel(\"Number of show up or not show\") ;\n",
    "plt.legend();\n",
    "age_bar.xaxis.set_ticks(np.arange(0, 100, 11 )) ;\n",
    "age_bar.set_xticklabels(np.arange(0, 100, 11 ))  ;"
   ]
  },
  {
   "cell_type": "markdown",
   "metadata": {},
   "source": [
    "### 3.1.4 Day/Month of Sechedul\n",
    "Q4 -  Is there a specific day or month that the patients are more not show up at it?"
   ]
  },
  {
   "cell_type": "code",
   "execution_count": 60,
   "metadata": {},
   "outputs": [
    {
     "data": {
      "text/plain": [
       "Tuesday      5291\n",
       "Wednesday    4879\n",
       "Monday       4559\n",
       "Friday       3886\n",
       "Thursday     3700\n",
       "Saturday        1\n",
       "Name: day_of_sechedul, dtype: int64"
      ]
     },
     "execution_count": 60,
     "metadata": {},
     "output_type": "execute_result"
    },
    {
     "data": {
      "image/png": "[encoded data removed]",
      "text/plain": [
       "<Figure size 720x432 with 1 Axes>"
      ]
     },
     "metadata": {
      "needs_background": "light"
     },
     "output_type": "display_data"
    }
   ],
   "source": [
    "# Day\n",
    "day_t = df1['day_of_sechedul'].value_counts()\n",
    "day_not_show = num_not_show['day_of_sechedul'].value_counts()\n",
    "\n",
    "#plt.day_bar = day_t.plot(kind='barh' , stacked=False, figsize = (10, 6) , color = 'green' , label ='number of total appointment' , alpha=0.5) ;\n",
    "plt.day_bar = day_not_show.plot(kind='barh' ,grid = True, figsize = (10, 6),color = 'red' , label ='number of total appointment' , alpha=0.8) ;\n",
    "\n",
    "plt.title('Days vs show up') ; \n",
    "plt.xlabel(\"Number of missing appointment per day\") ;\n",
    "plt.ylabel(\"Dechedul days \") ;\n",
    "plt.legend() ;\n",
    "day_not_show"
   ]
  },
  {
   "cell_type": "code",
   "execution_count": 61,
   "metadata": {},
   "outputs": [
    {
     "data": {
      "image/png": "[encoded data removed]",
      "text/plain": [
       "<Figure size 720x432 with 1 Axes>"
      ]
     },
     "metadata": {
      "needs_background": "light"
     },
     "output_type": "display_data"
    }
   ],
   "source": [
    "# Month\n",
    "month_t = df1['month_of_sechedul'].value_counts()\n",
    "month_not_show = num_not_show['month_of_sechedul'].value_counts()\n",
    "\n",
    "#plt.day_bar = month_t.plot(kind='barh' , stacked=False, figsize = (10, 6) , color = 'green' , label ='number of total appointment' , alpha=0.5) ;\n",
    "plt.month_bar = month_not_show.plot(kind='barh', grid = True, figsize = (10, 6) ,color = 'red' , label ='number of total appointment' , alpha=0.8) ;\n",
    "\n",
    "plt.title('Days vs show up') ; \n",
    "plt.xlabel(\"sechedul days\") ;\n",
    "plt.ylabel(\"number of appointment per day\") ;\n",
    "plt.legend() ;\n"
   ]
  },
  {
   "cell_type": "markdown",
   "metadata": {},
   "source": [
    "### 3.1.5 Day of appointment\n",
    "Q5 -  Is there a specific day that the patients who not show up on their scheduled appointment are more likely to show up?"
   ]
  },
  {
   "cell_type": "code",
   "execution_count": 62,
   "metadata": {},
   "outputs": [
    {
     "data": {
      "text/plain": [
       "Tuesday      5152\n",
       "Wednesday    5093\n",
       "Monday       4689\n",
       "Friday       4037\n",
       "Thursday     3336\n",
       "Saturday        9\n",
       "Name: day_of_appointment, dtype: int64"
      ]
     },
     "execution_count": 62,
     "metadata": {},
     "output_type": "execute_result"
    },
    {
     "data": {
      "image/png": "[encoded data removed]",
      "text/plain": [
       "<Figure size 720x432 with 1 Axes>"
      ]
     },
     "metadata": {
      "needs_background": "light"
     },
     "output_type": "display_data"
    }
   ],
   "source": [
    "day2_not_show = num_not_show['day_of_appointment'].value_counts()\n",
    "\n",
    "plt.day2_bar = day2_not_show.plot(kind='barh' , grid = True,figsize = (10, 6),color = 'green' , label ='number of total appointment' , alpha=0.8) ;\n",
    "plt.title('Days vs show up 2') ; \n",
    "plt.xlabel(\"Number of show up appointment per day\") ;\n",
    "plt.ylabel(\"Appointment days\") ;\n",
    "plt.legend() ;\n",
    "day2_not_show"
   ]
  },
  {
   "cell_type": "markdown",
   "metadata": {},
   "source": [
    "### 3.1.6 Neighborhood\n",
    "Q6 - Does the neighborhood that patients live in have a relationship with patients not show?"
   ]
  },
  {
   "cell_type": "code",
   "execution_count": 63,
   "metadata": {},
   "outputs": [],
   "source": [
    "neighbor_show = df1['neighborhood'].value_counts()\n",
    "neighbor_not_show = num_not_show['neighborhood'].value_counts()\n"
   ]
  },
  {
   "cell_type": "code",
   "execution_count": 64,
   "metadata": {},
   "outputs": [
    {
     "data": {
      "image/png": "[encoded data removed]",
      "text/plain": [
       "<Figure size 1440x576 with 1 Axes>"
      ]
     },
     "metadata": {
      "needs_background": "light"
     },
     "output_type": "display_data"
    }
   ],
   "source": [
    "age_bar = neighbor_show.plot(kind='bar' , grid = True,figsize = (20,8) , color = 'green' , label='Patient neighborhood' , alpha= 0.5 )\n",
    "age_bar = neighbor_not_show.plot(kind='bar' ,grid = True, color = 'red', label='Patient neighborhood who NOT show up' , alpha= 0.8 )\n",
    "\n",
    "plt.title('Neighborhood vs show up') ; \n",
    "plt.xlabel(\"Neighborhood\") ;\n",
    "plt.ylabel(\"Number of show up or not show\") ;\n",
    "plt.legend();\n"
   ]
  },
  {
   "cell_type": "markdown",
   "metadata": {},
   "source": [
    "### 3.1.7 Scholarship \n",
    "Q7 - Are patients who have a scholarship are less to miss their scheduled appointment?"
   ]
  },
  {
   "cell_type": "code",
   "execution_count": 65,
   "metadata": {},
   "outputs": [
    {
     "data": {
      "text/plain": [
       "0    99658\n",
       "1    10861\n",
       "Name: scholarship, dtype: int64"
      ]
     },
     "execution_count": 65,
     "metadata": {},
     "output_type": "execute_result"
    }
   ],
   "source": [
    "df1['scholarship'].value_counts()"
   ]
  },
  {
   "cell_type": "code",
   "execution_count": 66,
   "metadata": {},
   "outputs": [
    {
     "data": {
      "image/png": "[encoded data removed]",
      "text/plain": [
       "<Figure size 432x432 with 1 Axes>"
      ]
     },
     "metadata": {
      "needs_background": "light"
     },
     "output_type": "display_data"
    }
   ],
   "source": [
    "# total number of patients if they have scholarship or NOT\n",
    "pie_show = df1['scholarship'].value_counts().plot(kind='bar' , grid = True,figsize = (6,6) , color = ['green', 'red'], alpha=0.5 , rot=0 );\n",
    "plt.title('Total patients have scholarship or NOT') ; \n",
    "positions = (0, 1);\n",
    "labels = (\"NOT have scholarship\", \"have scholarship\");\n",
    "plt.xticks(positions, labels) ;"
   ]
  },
  {
   "cell_type": "code",
   "execution_count": 67,
   "metadata": {},
   "outputs": [
    {
     "data": {
      "image/png": "[encoded data removed]",
      "text/plain": [
       "<Figure size 432x432 with 1 Axes>"
      ]
     },
     "metadata": {},
     "output_type": "display_data"
    }
   ],
   "source": [
    "# patients who NOT show up vs have scholarship or NOt\n",
    "pie_show = num_not_show['scholarship'].value_counts().plot(kind='pie' , figsize = (6,6) , autopct='%10.1f%%' ,colors = ['red', 'green'],labels=['NOT have scholarship ',' Have scholarship'] , wedgeprops={'alpha':0.5});\n",
    "plt.title(' patients NOT show vs have scholarship or NOT') ; \n",
    "plt.legend();"
   ]
  },
  {
   "cell_type": "markdown",
   "metadata": {},
   "source": [
    "### 3.1.8 Diabetes and Hypertension \n",
    "Q8 - Are the patients who have a chronic disease (diabetes, or hypertension) related to not show up?"
   ]
  },
  {
   "cell_type": "code",
   "execution_count": 68,
   "metadata": {},
   "outputs": [
    {
     "data": {
      "text/plain": [
       "patient_id              4061\n",
       "appointment_id          4061\n",
       "gender                  4061\n",
       "year_of_sechedul        4061\n",
       "month_of_sechedul       4061\n",
       "day_of_sechedul         4061\n",
       "time_of_sechedul        4061\n",
       "year_of_appointment     4061\n",
       "month_of_appointment    4061\n",
       "day_of_appointment      4061\n",
       "age                     4061\n",
       "neighborhood            4061\n",
       "scholarship             4061\n",
       "hypertension            4061\n",
       "diabetes                4061\n",
       "alcoholism              4061\n",
       "handicap                4061\n",
       "sms_received            4061\n",
       "show_up                 4061\n",
       "dtype: int64"
      ]
     },
     "execution_count": 68,
     "metadata": {},
     "output_type": "execute_result"
    }
   ],
   "source": [
    "dh_not_show = num_not_show.query('diabetes == 1 or hypertension == 1')\n",
    "dh_not_show.count()"
   ]
  },
  {
   "cell_type": "code",
   "execution_count": 69,
   "metadata": {},
   "outputs": [],
   "source": [
    "dh_total = num_not_show.groupby(['diabetes', 'hypertension'])['show_up'].count()\n"
   ]
  },
  {
   "cell_type": "code",
   "execution_count": 70,
   "metadata": {},
   "outputs": [
    {
     "data": {
      "image/png": "[encoded data removed]",
      "text/plain": [
       "<Figure size 432x432 with 1 Axes>"
      ]
     },
     "metadata": {},
     "output_type": "display_data"
    }
   ],
   "source": [
    "# patients NOT show up vs chronic disease (diabetes, or hypertension)\n",
    "plt.day_bar = dh_total.plot(kind='pie' , stacked=False, figsize = (6, 6) , labels=['NOT have diabetes nor hypertension ',' Have diabetes','Have hypertension ','Have diabetes and Hypertension'], autopct='%10.1f%%' ,colors = ['red', 'blue' , 'yellow' , 'black'], wedgeprops={'alpha':0.5} ) ;\n",
    "plt.legend();\n"
   ]
  },
  {
   "cell_type": "markdown",
   "metadata": {},
   "source": [
    "### 3.1.8 Alcoholism\n",
    "Q9 - Do the patients who have alcoholism, are more missing their appointment?"
   ]
  },
  {
   "cell_type": "code",
   "execution_count": 71,
   "metadata": {},
   "outputs": [
    {
     "data": {
      "text/plain": [
       "0    107159\n",
       "1      3360\n",
       "Name: alcoholism, dtype: int64"
      ]
     },
     "execution_count": 71,
     "metadata": {},
     "output_type": "execute_result"
    }
   ],
   "source": [
    "t_alcoholism_f = df1['alcoholism'].value_counts()\n",
    "t_alcoholism_f"
   ]
  },
  {
   "cell_type": "code",
   "execution_count": 72,
   "metadata": {},
   "outputs": [
    {
     "data": {
      "text/plain": [
       "0    21639\n",
       "1      677\n",
       "Name: alcoholism, dtype: int64"
      ]
     },
     "execution_count": 72,
     "metadata": {},
     "output_type": "execute_result"
    }
   ],
   "source": [
    "alcoholism_f = num_not_show['alcoholism'].value_counts()\n",
    "alcoholism_f"
   ]
  },
  {
   "cell_type": "code",
   "execution_count": 73,
   "metadata": {},
   "outputs": [
    {
     "data": {
      "text/plain": [
       "20.148809523809526"
      ]
     },
     "execution_count": 73,
     "metadata": {},
     "output_type": "execute_result"
    }
   ],
   "source": [
    "per_alcoholism_f_not_show = (alcoholism_f[1] / t_alcoholism_f[1]) * 100\n",
    "per_alcoholism_f_not_show"
   ]
  },
  {
   "cell_type": "code",
   "execution_count": 74,
   "metadata": {},
   "outputs": [
    {
     "data": {
      "image/png": "[encoded data removed]",
      "text/plain": [
       "<Figure size 432x432 with 1 Axes>"
      ]
     },
     "metadata": {
      "needs_background": "light"
     },
     "output_type": "display_data"
    }
   ],
   "source": [
    "# patients NOT show up vs alcoholism\n",
    "alcoholism_f.plot(kind='bar' , color =['green' , 'red'] ,grid = True, figsize=(6,6) , alpha=0.5 , rot=0) ;\n",
    "plt.title('Not show up vs alcoholism') ; \n",
    "plt.xlabel(\"alcoholism\") ;\n",
    "plt.ylabel(\"Number patients\") ;\n",
    "positions = (0, 1);\n",
    "labels = (\"Not have alcoholism\", \"Have alcoholism\");\n",
    "plt.xticks(positions, labels) ;"
   ]
  },
  {
   "cell_type": "markdown",
   "metadata": {},
   "source": [
    "### 3.1.9 Handicap\n",
    "Q10 - Do the patients who are handicap, are more missing their appointment?"
   ]
  },
  {
   "cell_type": "code",
   "execution_count": 75,
   "metadata": {},
   "outputs": [
    {
     "data": {
      "text/plain": [
       "0    108282\n",
       "1      2237\n",
       "Name: handicap, dtype: int64"
      ]
     },
     "execution_count": 75,
     "metadata": {},
     "output_type": "execute_result"
    }
   ],
   "source": [
    "t_handicap_f = df1['handicap'].value_counts()\n",
    "t_handicap_f"
   ]
  },
  {
   "cell_type": "code",
   "execution_count": 76,
   "metadata": {},
   "outputs": [
    {
     "data": {
      "text/plain": [
       "0    21912\n",
       "1      404\n",
       "Name: handicap, dtype: int64"
      ]
     },
     "execution_count": 76,
     "metadata": {},
     "output_type": "execute_result"
    }
   ],
   "source": [
    "handicap_f = num_not_show['handicap'].value_counts()\n",
    "handicap_f"
   ]
  },
  {
   "cell_type": "code",
   "execution_count": 77,
   "metadata": {},
   "outputs": [
    {
     "data": {
      "text/plain": [
       "18.059901654000893"
      ]
     },
     "execution_count": 77,
     "metadata": {},
     "output_type": "execute_result"
    }
   ],
   "source": [
    "per_handicap_f_not_show = (handicap_f[1] / t_handicap_f[1]) * 100\n",
    "per_handicap_f_not_show"
   ]
  },
  {
   "cell_type": "code",
   "execution_count": 78,
   "metadata": {},
   "outputs": [
    {
     "data": {
      "image/png": "[encoded data removed]",
      "text/plain": [
       "<Figure size 432x432 with 1 Axes>"
      ]
     },
     "metadata": {
      "needs_background": "light"
     },
     "output_type": "display_data"
    }
   ],
   "source": [
    "# patients NOT show up vs handicap\n",
    "handicap_f.plot(kind='bar' , color =['green' , 'red'] ,grid = True, figsize=(6,6) , alpha=0.5 , rot=0) ;\n",
    "plt.title('Not show up vs handicap') ; \n",
    "plt.xlabel(\"handicap\") ;\n",
    "plt.ylabel(\"Number patients\") ;\n",
    "positions = (0, 1);\n",
    "labels = (\"Not have handicap\", \"Have handicap\");\n",
    "plt.xticks(positions, labels) ;"
   ]
  },
  {
   "cell_type": "markdown",
   "metadata": {},
   "source": [
    "### 3.1.10 SMS\n",
    "Q11 - Do patients who receive SMS are less likely to not show up on their appointment?"
   ]
  },
  {
   "cell_type": "code",
   "execution_count": 79,
   "metadata": {},
   "outputs": [
    {
     "data": {
      "text/plain": [
       "0    75038\n",
       "1    35481\n",
       "Name: sms_received, dtype: int64"
      ]
     },
     "execution_count": 79,
     "metadata": {},
     "output_type": "execute_result"
    }
   ],
   "source": [
    "sms = df1['sms_received'].value_counts()\n",
    "sms"
   ]
  },
  {
   "cell_type": "code",
   "execution_count": 80,
   "metadata": {},
   "outputs": [
    {
     "data": {
      "text/plain": [
       "9784"
      ]
     },
     "execution_count": 80,
     "metadata": {},
     "output_type": "execute_result"
    }
   ],
   "source": [
    "sms_q = df1.query('show_up == 0 & sms_received == 1')\n",
    "sms_q['show_up'].count()"
   ]
  },
  {
   "cell_type": "code",
   "execution_count": 81,
   "metadata": {},
   "outputs": [
    {
     "data": {
      "text/plain": [
       "27.575322003325724"
      ]
     },
     "execution_count": 81,
     "metadata": {},
     "output_type": "execute_result"
    }
   ],
   "source": [
    "per_sms_not_show = ((sms_q['show_up'].count()) / sms[1] ) * 100\n",
    "per_sms_not_show"
   ]
  },
  {
   "cell_type": "code",
   "execution_count": 82,
   "metadata": {},
   "outputs": [
    {
     "data": {
      "image/png": "[encoded data removed]",
      "text/plain": [
       "<Figure size 432x432 with 1 Axes>"
      ]
     },
     "metadata": {
      "needs_background": "light"
     },
     "output_type": "display_data"
    }
   ],
   "source": [
    "# total number of patients vs receive SMS\n",
    "sms.plot(kind='bar' , color =['red' , 'green'] ,grid = True, figsize=(6,6) , alpha=0.5 , rot=0) ;\n",
    "plt.title('Number of patients vs receive SMS') ; \n",
    "plt.xlabel(\"SMS\") ;\n",
    "plt.ylabel(\"Number patients\") ;\n",
    "positions = (0, 1);\n",
    "labels = (\"NOT receive sms\", \"receive sms\");\n",
    "plt.xticks(positions, labels) ;"
   ]
  },
  {
   "cell_type": "code",
   "execution_count": 83,
   "metadata": {},
   "outputs": [
    {
     "data": {
      "image/png": "[encoded data removed]",
      "text/plain": [
       "<Figure size 432x432 with 1 Axes>"
      ]
     },
     "metadata": {},
     "output_type": "display_data"
    }
   ],
   "source": [
    "pie_show = num_not_show['sms_received'].value_counts().plot(kind='pie' , figsize = (6,6) , autopct='%10.1f%%' ,colors = ['red', 'green'],labels=[' Not receive SMS ',' Receive SMS'], wedgeprops={'alpha':0.5});\n",
    "plt.title('Patients who NOT show up  vs receive SMS') ; \n",
    "plt.legend() ;"
   ]
  },
  {
   "cell_type": "code",
   "execution_count": 84,
   "metadata": {},
   "outputs": [
    {
     "data": {
      "image/png": "[encoded data removed]",
      "text/plain": [
       "<Figure size 432x432 with 1 Axes>"
      ]
     },
     "metadata": {},
     "output_type": "display_data"
    }
   ],
   "source": [
    "# percentage of patients who NOT show up vs receive SMS or nor\n",
    "pie_show = num_not_show['sms_received'].value_counts().plot(kind='pie' , figsize = (6,6) , autopct='%10.1f%%' ,colors = ['red', 'green'],labels=[' Not receive SMS ',' Receive SMS'], wedgeprops={'alpha':0.5});\n",
    "plt.title('Patients who NOT show up  vs receive SMS') ; \n",
    "plt.legend() ;\n"
   ]
  },
  {
   "cell_type": "markdown",
   "metadata": {},
   "source": [
    "## 3.2 Correlation \n",
    "To see if there a relationship between show up and the factors"
   ]
  },
  {
   "cell_type": "code",
   "execution_count": 85,
   "metadata": {},
   "outputs": [
    {
     "data": {
      "text/html": [
       "<div>\n",
       "<style scoped>\n",
       "    .dataframe tbody tr th:only-of-type {\n",
       "        vertical-align: middle;\n",
       "    }\n",
       "\n",
       "    .dataframe tbody tr th {\n",
       "        vertical-align: top;\n",
       "    }\n",
       "\n",
       "    .dataframe thead th {\n",
       "        text-align: right;\n",
       "    }\n",
       "</style>\n",
       "<table border=\"1\" class=\"dataframe\">\n",
       "  <thead>\n",
       "    <tr style=\"text-align: right;\">\n",
       "      <th></th>\n",
       "      <th>patient_id</th>\n",
       "      <th>appointment_id</th>\n",
       "      <th>year_of_sechedul</th>\n",
       "      <th>year_of_appointment</th>\n",
       "      <th>age</th>\n",
       "      <th>scholarship</th>\n",
       "      <th>hypertension</th>\n",
       "      <th>diabetes</th>\n",
       "      <th>alcoholism</th>\n",
       "      <th>handicap</th>\n",
       "      <th>sms_received</th>\n",
       "      <th>show_up</th>\n",
       "    </tr>\n",
       "  </thead>\n",
       "  <tbody>\n",
       "    <tr>\n",
       "      <th>patient_id</th>\n",
       "      <td>1.000000</td>\n",
       "      <td>0.004026</td>\n",
       "      <td>-0.000935</td>\n",
       "      <td>NaN</td>\n",
       "      <td>-0.004207</td>\n",
       "      <td>-0.002867</td>\n",
       "      <td>-0.006475</td>\n",
       "      <td>0.001617</td>\n",
       "      <td>0.011020</td>\n",
       "      <td>-0.008546</td>\n",
       "      <td>-0.009768</td>\n",
       "      <td>0.001411</td>\n",
       "    </tr>\n",
       "    <tr>\n",
       "      <th>appointment_id</th>\n",
       "      <td>0.004026</td>\n",
       "      <td>1.000000</td>\n",
       "      <td>0.177435</td>\n",
       "      <td>NaN</td>\n",
       "      <td>-0.019152</td>\n",
       "      <td>0.022624</td>\n",
       "      <td>0.012752</td>\n",
       "      <td>0.022636</td>\n",
       "      <td>0.032950</td>\n",
       "      <td>0.015138</td>\n",
       "      <td>-0.256627</td>\n",
       "      <td>0.162585</td>\n",
       "    </tr>\n",
       "    <tr>\n",
       "      <th>year_of_sechedul</th>\n",
       "      <td>-0.000935</td>\n",
       "      <td>0.177435</td>\n",
       "      <td>1.000000</td>\n",
       "      <td>NaN</td>\n",
       "      <td>-0.026791</td>\n",
       "      <td>0.001403</td>\n",
       "      <td>-0.035311</td>\n",
       "      <td>-0.006723</td>\n",
       "      <td>0.004195</td>\n",
       "      <td>-0.007449</td>\n",
       "      <td>-0.018903</td>\n",
       "      <td>0.006169</td>\n",
       "    </tr>\n",
       "    <tr>\n",
       "      <th>year_of_appointment</th>\n",
       "      <td>NaN</td>\n",
       "      <td>NaN</td>\n",
       "      <td>NaN</td>\n",
       "      <td>NaN</td>\n",
       "      <td>NaN</td>\n",
       "      <td>NaN</td>\n",
       "      <td>NaN</td>\n",
       "      <td>NaN</td>\n",
       "      <td>NaN</td>\n",
       "      <td>NaN</td>\n",
       "      <td>NaN</td>\n",
       "      <td>NaN</td>\n",
       "    </tr>\n",
       "    <tr>\n",
       "      <th>age</th>\n",
       "      <td>-0.004207</td>\n",
       "      <td>-0.019152</td>\n",
       "      <td>-0.026791</td>\n",
       "      <td>NaN</td>\n",
       "      <td>1.000000</td>\n",
       "      <td>-0.092427</td>\n",
       "      <td>0.504788</td>\n",
       "      <td>0.292544</td>\n",
       "      <td>0.095877</td>\n",
       "      <td>0.083005</td>\n",
       "      <td>0.012712</td>\n",
       "      <td>0.060476</td>\n",
       "    </tr>\n",
       "    <tr>\n",
       "      <th>scholarship</th>\n",
       "      <td>-0.002867</td>\n",
       "      <td>0.022624</td>\n",
       "      <td>0.001403</td>\n",
       "      <td>NaN</td>\n",
       "      <td>-0.092427</td>\n",
       "      <td>1.000000</td>\n",
       "      <td>-0.019734</td>\n",
       "      <td>-0.024900</td>\n",
       "      <td>0.035018</td>\n",
       "      <td>-0.009030</td>\n",
       "      <td>0.001184</td>\n",
       "      <td>-0.029147</td>\n",
       "    </tr>\n",
       "    <tr>\n",
       "      <th>hypertension</th>\n",
       "      <td>-0.006475</td>\n",
       "      <td>0.012752</td>\n",
       "      <td>-0.035311</td>\n",
       "      <td>NaN</td>\n",
       "      <td>0.504788</td>\n",
       "      <td>-0.019734</td>\n",
       "      <td>1.000000</td>\n",
       "      <td>0.433095</td>\n",
       "      <td>0.087971</td>\n",
       "      <td>0.085054</td>\n",
       "      <td>-0.006315</td>\n",
       "      <td>0.035677</td>\n",
       "    </tr>\n",
       "    <tr>\n",
       "      <th>diabetes</th>\n",
       "      <td>0.001617</td>\n",
       "      <td>0.022636</td>\n",
       "      <td>-0.006723</td>\n",
       "      <td>NaN</td>\n",
       "      <td>0.292544</td>\n",
       "      <td>-0.024900</td>\n",
       "      <td>0.433095</td>\n",
       "      <td>1.000000</td>\n",
       "      <td>0.018470</td>\n",
       "      <td>0.059265</td>\n",
       "      <td>-0.014559</td>\n",
       "      <td>0.015172</td>\n",
       "    </tr>\n",
       "    <tr>\n",
       "      <th>alcoholism</th>\n",
       "      <td>0.011020</td>\n",
       "      <td>0.032950</td>\n",
       "      <td>0.004195</td>\n",
       "      <td>NaN</td>\n",
       "      <td>0.095877</td>\n",
       "      <td>0.035018</td>\n",
       "      <td>0.087971</td>\n",
       "      <td>0.018470</td>\n",
       "      <td>1.000000</td>\n",
       "      <td>0.003739</td>\n",
       "      <td>-0.026153</td>\n",
       "      <td>0.000191</td>\n",
       "    </tr>\n",
       "    <tr>\n",
       "      <th>handicap</th>\n",
       "      <td>-0.008546</td>\n",
       "      <td>0.015138</td>\n",
       "      <td>-0.007449</td>\n",
       "      <td>NaN</td>\n",
       "      <td>0.083005</td>\n",
       "      <td>-0.009030</td>\n",
       "      <td>0.085054</td>\n",
       "      <td>0.059265</td>\n",
       "      <td>0.003739</td>\n",
       "      <td>1.000000</td>\n",
       "      <td>-0.025070</td>\n",
       "      <td>0.007634</td>\n",
       "    </tr>\n",
       "    <tr>\n",
       "      <th>sms_received</th>\n",
       "      <td>-0.009768</td>\n",
       "      <td>-0.256627</td>\n",
       "      <td>-0.018903</td>\n",
       "      <td>NaN</td>\n",
       "      <td>0.012712</td>\n",
       "      <td>0.001184</td>\n",
       "      <td>-0.006315</td>\n",
       "      <td>-0.014559</td>\n",
       "      <td>-0.026153</td>\n",
       "      <td>-0.025070</td>\n",
       "      <td>1.000000</td>\n",
       "      <td>-0.126472</td>\n",
       "    </tr>\n",
       "    <tr>\n",
       "      <th>show_up</th>\n",
       "      <td>0.001411</td>\n",
       "      <td>0.162585</td>\n",
       "      <td>0.006169</td>\n",
       "      <td>NaN</td>\n",
       "      <td>0.060476</td>\n",
       "      <td>-0.029147</td>\n",
       "      <td>0.035677</td>\n",
       "      <td>0.015172</td>\n",
       "      <td>0.000191</td>\n",
       "      <td>0.007634</td>\n",
       "      <td>-0.126472</td>\n",
       "      <td>1.000000</td>\n",
       "    </tr>\n",
       "  </tbody>\n",
       "</table>\n",
       "</div>"
      ],
      "text/plain": [
       "                     patient_id  appointment_id  year_of_sechedul  \\\n",
       "patient_id             1.000000        0.004026         -0.000935   \n",
       "appointment_id         0.004026        1.000000          0.177435   \n",
       "year_of_sechedul      -0.000935        0.177435          1.000000   \n",
       "year_of_appointment         NaN             NaN               NaN   \n",
       "age                   -0.004207       -0.019152         -0.026791   \n",
       "scholarship           -0.002867        0.022624          0.001403   \n",
       "hypertension          -0.006475        0.012752         -0.035311   \n",
       "diabetes               0.001617        0.022636         -0.006723   \n",
       "alcoholism             0.011020        0.032950          0.004195   \n",
       "handicap              -0.008546        0.015138         -0.007449   \n",
       "sms_received          -0.009768       -0.256627         -0.018903   \n",
       "show_up                0.001411        0.162585          0.006169   \n",
       "\n",
       "                     year_of_appointment       age  scholarship  hypertension  \\\n",
       "patient_id                           NaN -0.004207    -0.002867     -0.006475   \n",
       "appointment_id                       NaN -0.019152     0.022624      0.012752   \n",
       "year_of_sechedul                     NaN -0.026791     0.001403     -0.035311   \n",
       "year_of_appointment                  NaN       NaN          NaN           NaN   \n",
       "age                                  NaN  1.000000    -0.092427      0.504788   \n",
       "scholarship                          NaN -0.092427     1.000000     -0.019734   \n",
       "hypertension                         NaN  0.504788    -0.019734      1.000000   \n",
       "diabetes                             NaN  0.292544    -0.024900      0.433095   \n",
       "alcoholism                           NaN  0.095877     0.035018      0.087971   \n",
       "handicap                             NaN  0.083005    -0.009030      0.085054   \n",
       "sms_received                         NaN  0.012712     0.001184     -0.006315   \n",
       "show_up                              NaN  0.060476    -0.029147      0.035677   \n",
       "\n",
       "                     diabetes  alcoholism  handicap  sms_received   show_up  \n",
       "patient_id           0.001617    0.011020 -0.008546     -0.009768  0.001411  \n",
       "appointment_id       0.022636    0.032950  0.015138     -0.256627  0.162585  \n",
       "year_of_sechedul    -0.006723    0.004195 -0.007449     -0.018903  0.006169  \n",
       "year_of_appointment       NaN         NaN       NaN           NaN       NaN  \n",
       "age                  0.292544    0.095877  0.083005      0.012712  0.060476  \n",
       "scholarship         -0.024900    0.035018 -0.009030      0.001184 -0.029147  \n",
       "hypertension         0.433095    0.087971  0.085054     -0.006315  0.035677  \n",
       "diabetes             1.000000    0.018470  0.059265     -0.014559  0.015172  \n",
       "alcoholism           0.018470    1.000000  0.003739     -0.026153  0.000191  \n",
       "handicap             0.059265    0.003739  1.000000     -0.025070  0.007634  \n",
       "sms_received        -0.014559   -0.026153 -0.025070      1.000000 -0.126472  \n",
       "show_up              0.015172    0.000191  0.007634     -0.126472  1.000000  "
      ]
     },
     "execution_count": 85,
     "metadata": {},
     "output_type": "execute_result"
    }
   ],
   "source": [
    "df1_corr = df1.corr()\n",
    "df1_corr"
   ]
  },
  {
   "cell_type": "code",
   "execution_count": 86,
   "metadata": {},
   "outputs": [
    {
     "data": {
      "text/plain": [
       "patient_id             0.001411\n",
       "appointment_id         0.162585\n",
       "year_of_sechedul       0.006169\n",
       "year_of_appointment         NaN\n",
       "age                    0.060476\n",
       "scholarship           -0.029147\n",
       "hypertension           0.035677\n",
       "diabetes               0.015172\n",
       "alcoholism             0.000191\n",
       "handicap               0.007634\n",
       "sms_received          -0.126472\n",
       "show_up                1.000000\n",
       "Name: show_up, dtype: float64"
      ]
     },
     "execution_count": 86,
     "metadata": {},
     "output_type": "execute_result"
    }
   ],
   "source": [
    "df1_corr['show_up']"
   ]
  },
  {
   "cell_type": "markdown",
   "metadata": {},
   "source": [
    "# 4. Export The Data Sets"
   ]
  },
  {
   "cell_type": "code",
   "execution_count": 87,
   "metadata": {},
   "outputs": [],
   "source": [
    "df1.to_csv('editcopy_noshow.csv', index=False)\n",
    "num_not_show.to_csv('only_noshow.csv', index=False)\n",
    "num_show.to_csv('only_show.csv', index=False)"
   ]
  },
  {
   "cell_type": "markdown",
   "metadata": {},
   "source": [
    "# 5. Conclusion"
   ]
  },
  {
   "cell_type": "markdown",
   "metadata": {},
   "source": [
    "1 - 79.8% of the patients are showed up on their scheduled appointment and only 20.2 % not showed.\n",
    "\n",
    "2 - 65% of the total patients are female and 35 % are Male. The patients who not showed on their scheduled appointment are 20.3 %  of total females and 19.9%  of males. So, gender is not a factor in not show up.\n",
    "\n",
    "3 - The patient's age range between 0 to 100.  The patients who are in age from 0 to 1 and between  15 to 30 are more not showed compared to the older patients.\n",
    "\n",
    "4 - The day and month which the patients more often to not showed are Tuesday and Wednesday . while May is the most month where the patients not showed.\n",
    "\n",
    "6 - The patients who not showed on their scheduled appointment are more likely to show up on Tuesday and Wednesday, which is a surprise because these days have the highest not showed patients.\n",
    "\n",
    "7 - Jardim Camburi and Maria Ortiz neighborhoods have the most not showed patients, but if we compared Jardim Camburi neighborhood to Maria Ortiz neighborhood, we can see the total appointments for patients from Jardim Camburi neighborhood is way more than the total appointments for patients from Maria Ortiz, but the not showed patients are almost equally. So we can say that Maria Ortiz neighborhood has the highest not showed patients.\n",
    "\n",
    "8 - More than 99500 patients have not scholarship and 88.4 % of not showed patients do not have a scholarship. So we can see that scholarship is a factor in not showed patients.\n",
    "\n",
    "9 - 4061 patients of the total patients have either diabetes to hypertension.\n",
    "\n",
    "81.8 % of patients who not showed are have not either diabetes or hypertension and 11.8% have only diabetes,  1.3% have both diabetes and hypertension, and 5.1% have hypertension.\n",
    "\n",
    "So we can say that the patients who have either diabetes or hypertension are less likely to not show up.\n",
    "\n",
    "10 - The patients who have alcoholism are less likely to not show up, only 677 patients which represent only 20,1 % of total patients who have alcoholism are not show up on their scheduled appointments.\n",
    "\n",
    "11 - The patients who have a handicap and not showed up on their scheduled appointments are only 18 %of the total handicap patients. So handicap patients are more likely to show up on their scheduled appointments.\n",
    "\n",
    "12 - 35481 of patients receive SMS and 9784 of them not showing up . so 27.5 % of patients receive SMS not showed.\n",
    "That means SMS could be a not factor in not showed up."
   ]
  },
  {
   "cell_type": "markdown",
   "metadata": {},
   "source": [
    "## 5.1 Limitations"
   ]
  },
  {
   "cell_type": "markdown",
   "metadata": {},
   "source": [
    "1- The data set did not specify the reason for the appointment (What is the department in the hospital which the appointment take place).\n",
    "\n",
    "2- The neighborhood of patients is not clear if it closes or far from the hospital.\n",
    "\n",
    "3- The data set did not mention if the patients have health insurance or not have.\n"
   ]
  },
  {
   "cell_type": "code",
   "execution_count": null,
   "metadata": {},
   "outputs": [],
   "source": []
  }
 ],
 "metadata": {
  "kernelspec": {
   "display_name": "Python 3",
   "language": "python",
   "name": "python3"
  },
  "language_info": {
   "codemirror_mode": {
    "name": "ipython",
    "version": 3
   },
   "file_extension": ".py",
   "mimetype": "text/x-python",
   "name": "python",
   "nbconvert_exporter": "python",
   "pygments_lexer": "ipython3",
   "version": "3.7.6"
  }
 },
 "nbformat": 4,
 "nbformat_minor": 4
}
